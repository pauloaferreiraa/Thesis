{
 "cells": [
  {
   "cell_type": "markdown",
   "metadata": {},
   "source": [
    "### Human activity recognition.\n",
    "The dataset: <http://archive.ics.uci.edu/ml/datasets/Activity+Recognition+from+Single+Chest-Mounted+Accelerometer#>"
   ]
  },
  {
   "cell_type": "code",
   "execution_count": 7,
   "metadata": {},
   "outputs": [],
   "source": [
    "%matplotlib inline\n",
    "import pandas as pd\n",
    "from matplotlib import pyplot as plt\n",
    "import numpy as np\n",
    "from datetime import datetime, timedelta\n",
    "import warnings\n",
    "warnings.filterwarnings('ignore')"
   ]
  },
  {
   "cell_type": "code",
   "execution_count": 8,
   "metadata": {},
   "outputs": [],
   "source": [
    "from sklearn.model_selection import train_test_split\n",
    "from sklearn.preprocessing import label_binarize\n",
    "from sklearn.model_selection import GridSearchCV\n",
    "from sklearn.metrics import confusion_matrix, roc_curve, auc, accuracy_score\n",
    "from sklearn.svm import SVC\n",
    "from sklearn.tree import DecisionTreeClassifier\n",
    "from sklearn.ensemble import RandomForestClassifier, GradientBoostingClassifier, AdaBoostClassifier, VotingClassifier\n",
    "from sklearn.neighbors import KNeighborsClassifier\n",
    "\n",
    "from scipy.stats import mode"
   ]
  },
  {
   "cell_type": "code",
   "execution_count": 18,
   "metadata": {},
   "outputs": [],
   "source": [
    "def read_data(fname='all'):\n",
    "    print('::::Read Data::::')\n",
    "    freq = '19230U'   # ~19ms, using sampling frequency is 52samples/sec\n",
    "    dt = datetime.now()\n",
    "    data = pd.DataFrame()\n",
    "    \n",
    "    if fname == 'all':    # read all files\n",
    "        data_files = []\n",
    "        \n",
    "        for f_id in range(1,16):\n",
    "            data = pd.read_csv('data/Phones_accelerometer.csv', \n",
    "                               names=['id', 'arrival_time', 'creation_time', 'x', 'y', 'z', 'user', 'model', 'device', 'label'], \n",
    "                               header=None, index_col=0,usecols=['id','x','y','z','label'])\n",
    "            data.index = pd.date_range(start=dt, periods=data.shape[0], freq=freq)\n",
    "            dt += timedelta(hours=3)\n",
    "            data_files.append(data)\n",
    "            \n",
    "        data = pd.concat(data_files)\n",
    "    \n",
    "    else:    # read one file only\n",
    "        data = pd.read_csv('data/%s.csv' %fname, \n",
    "                   names=['id', 'arrival_time', 'creation_time', 'x', 'y', 'z', 'user', 'model', 'device', 'label'], \n",
    "                   header=None, index_col=0, usecols=['id','x','y','z','label'])\n",
    "\n",
    "        data.index = pd.date_range(start='00:00:00', periods=data.shape[0], freq=freq)\n",
    "        \n",
    "    # Filter and clean data\n",
    "    data = data.dropna()\n",
    "    data = data[data['label'] != 0]   # some rows are misclassified as 0\n",
    "        \n",
    "    return data"
   ]
  },
  {
   "cell_type": "markdown",
   "metadata": {},
   "source": [
    "### Feature extraction.\n",
    "Segment the data using sliding window of size 10s, and from each window extract the common features (mean, standard deviation, variance), and some other features used specifically for Human Activity Recognition like RMS (Root Mean Square), magnitude of acceleration, and pairwise correlation between x, y, z."
   ]
  },
  {
   "cell_type": "code",
   "execution_count": 10,
   "metadata": {},
   "outputs": [],
   "source": [
    "def rms(ts): return np.sqrt(np.mean(ts**2))\n",
    "\n",
    "def corr(df): \n",
    "    cor = df.corr()\n",
    "    return pd.DataFrame({'xy':[cor['x']['y']], 'xz':[cor['x']['z']], 'yz':[cor['y']['z']]})\n",
    "\n",
    "def get_simple_features(data, wsize='10s', f_list=['mean', 'std', 'var', rms]):\n",
    "    print('::::START:::: Get Simple Features::::')\n",
    "    # f_list is a list of features names or methods to apply in resampling\n",
    "    \n",
    "    # features that invlove one dimension only.\n",
    "    fname = '_' + (f_list[0] if isinstance(f_list[0], str) else f_list[0].__name__)   \n",
    "    feats = data[['x','y','z']].resample(wsize, how=f_list[0]).add_suffix(fname)\n",
    "    \n",
    "    for i, f in enumerate(f_list[1:]):\n",
    "        fname = '_' + (f if isinstance(f, str) else f.__name__)\n",
    "        feat = data[['x','y','z']].resample(wsize, how=f).add_suffix(fname)\n",
    "        feats = feats.join(feat)   \n",
    "\n",
    "    # features that involve more than one dimension.                                               \n",
    "    mean_mag = (data**2).sum(axis=1).resample(wsize, how=lambda ts: np.sqrt(ts).mean())\n",
    "    mean_mag.name = 'mean_mag'\n",
    "    feats = feats.join(mean_mag) \n",
    "\n",
    "    pairs_cor = data.groupby(pd.TimeGrouper(wsize)).apply(corr).reset_index(1, drop=True)\n",
    "    feats = feats.join(pairs_cor) \n",
    "    \n",
    "    y = data['label'].resample(wsize, how=lambda ts: mode(ts)[0] if ts.shape[0] > 0 else np.nan)   \n",
    "\n",
    "    # drop any nan values\n",
    "    mask = np.any(np.isnan(feats), axis=1)\n",
    "    feats, y = feats[~mask], y[~mask]\n",
    "    mask = np.isnan(y)\n",
    "    feats, y = feats[~mask], y[~mask]\n",
    "    print('::::END:::: Get Simple Features::::')\n",
    "    return (feats, y)\n"
   ]
  },
  {
   "cell_type": "markdown",
   "metadata": {},
   "source": [
    "### Choosing and tuning the model.\n",
    "\n",
    "Splitting data (after feature extraction) into train and test subsets. Using grid search on the training set each model is trained and tuned, then the models are compared according to their performance on the test set using accuracy and AUC (Area Under ROC Curve). The best accuracy result of .899 for SVM and RandomForest, and best AUC result of .99 for RandomForest.\n",
    "\n",
    "    Activity codes in confusion matrix:\n",
    "    1: Working at Computer\n",
    "    2: Standing Up, Walking and Going up\\down stairs\n",
    "    3: Standing\n",
    "    4: Walking\n",
    "    5: Going Up\\Down Stairs\n",
    "    6: Walking and Talking with Someone\n",
    "    7: Talking while Standing\n",
    "    "
   ]
  },
  {
   "cell_type": "code",
   "execution_count": 13,
   "metadata": {},
   "outputs": [],
   "source": [
    "def train_model(X, y, est, grid):\n",
    "    print('::::Train Model::::')\n",
    "    gs = GridSearchCV(estimator=est, param_grid=grid, scoring='accuracy', cv=5, n_jobs=-1)\n",
    "    gs = gs.fit(X, y)\n",
    "    \n",
    "    return (gs.best_estimator_, gs.best_params_)\n",
    "\n",
    "def eval_model(mod, X_test, y_test, mod_name, plt_roc=True):\n",
    "    print('::::Eval Model::::')\n",
    "    y_prob = mod.predict_proba(X_test)\n",
    "    y_test_bin = label_binarize(y_test, classes=[1, 2, 3, 4, 5, 6])\n",
    "    \n",
    "    y_test_bin_ravel = y_test_bin.ravel()\n",
    "    y_prob_ravel = y_prob.ravel()\n",
    "    \n",
    "    y_test_bin_ravel = y_test_bin_ravel[:len(y_prob_ravel)]\n",
    "    \n",
    "    fpr, tpr, _ = roc_curve(y_test_bin_ravel, y_prob_ravel)\n",
    "    roc_auc = auc(fpr, tpr)\n",
    "    \n",
    "    if plt_roc:\n",
    "        plt.plot(fpr, tpr, lw=2,\n",
    "                 label='average ROC curve (auc=%0.2f), model: %s' % (roc_auc,mod_name))\n",
    "        plt.legend(loc=\"lower right\")\n",
    "    \n",
    "    y_pred = mod.predict(X_test)\n",
    "    score = accuracy_score(y_true=y_test, y_pred=y_pred)\n",
    "    print('Accuracy score on the test set: %.3f' %score)\n",
    "    \n",
    "    confusion_ma = confusion_matrix(y_true=y_test, y_pred=y_pred)\n",
    "    confusion_ma = pd.DataFrame(confusion_ma, index=list(range(1,7)), columns=list(range(1,7)))\n",
    "    print('Confusion Matrix...')\n",
    "    print(confusion_ma)\n",
    "    \n",
    "    return (roc_auc, score)\n"
   ]
  },
  {
   "cell_type": "markdown",
   "metadata": {},
   "source": [
    "<h2>Test Example</h2>"
   ]
  },
  {
   "cell_type": "code",
   "execution_count": 14,
   "metadata": {},
   "outputs": [
    {
     "name": "stdout",
     "output_type": "stream",
     "text": [
      "::::Read Data::::\n",
      "::::START:::: Get Simple Features::::\n",
      "::::END:::: Get Simple Features::::\n",
      "Support Vector Machine\n",
      "::::Train Model::::\n",
      "::::Eval Model::::\n",
      "Accuracy score on the test set: 0.966\n",
      "Confusion Matrix...\n",
      "     1    2     3    4    5    6\n",
      "1  824   73     0    2    1    0\n",
      "2   23  948     0    0    0    0\n",
      "3    1    0  1052   16    0    0\n",
      "4    3    1    10  833   18    0\n",
      "5    1    0     0   25  756    2\n",
      "6    0    1     0    0    9  885\n",
      "Random Forest\n",
      "::::Train Model::::\n",
      "::::Eval Model::::\n",
      "Accuracy score on the test set: 0.979\n",
      "Confusion Matrix...\n",
      "     1    2     3    4    5    6\n",
      "1  889    4     4    1    1    1\n",
      "2    1  968     0    2    0    0\n",
      "3    0    0  1059    7    3    0\n",
      "4    2    1    10  829   22    1\n",
      "5    0    0     0   39  737    8\n",
      "6    0    1     0    4    5  885\n",
      "Gradient Boosting\n",
      "::::Train Model::::\n",
      "::::Eval Model::::\n",
      "Accuracy score on the test set: 0.985\n",
      "Confusion Matrix...\n",
      "     1    2     3    4    5    6\n",
      "1  889    5     4    2    0    0\n",
      "2    0  970     0    1    0    0\n",
      "3    0    0  1062    7    0    0\n",
      "4    2    1     7  836   19    0\n",
      "5    0    0     0   27  754    3\n",
      "6    0    0     0    0    7  888\n",
      "Ada Boosting\n",
      "::::Train Model::::\n",
      "::::Eval Model::::\n",
      "Accuracy score on the test set: 0.628\n",
      "Confusion Matrix...\n",
      "     1    2    3    4   5    6\n",
      "1  839   51    4    5   0    1\n",
      "2  100  869    2    0   0    0\n",
      "3    0    0  215  854   0    0\n",
      "4    3    0   12  849   0    1\n",
      "5    0    0    1  737  43    3\n",
      "6    0    0    0  182  86  627\n",
      "K-Nearest Neighbor\n",
      "::::Train Model::::\n",
      "::::Eval Model::::\n",
      "Accuracy score on the test set: 0.959\n",
      "Confusion Matrix...\n",
      "     1    2     3    4    5    6\n",
      "1  889    6     0    1    1    3\n",
      "2    0  969     0    1    0    1\n",
      "3    1    0  1035   24    9    0\n",
      "4    3    1    31  805   25    0\n",
      "5    1    0    27   72  679    5\n",
      "6    0    0     1    6    7  881\n"
     ]
    },
    {
     "data": {
      "text/plain": [
       "(0.9919215225141396, 0.9587892049598833)"
      ]
     },
     "execution_count": 14,
     "metadata": {},
     "output_type": "execute_result"
    },
    {
     "data": {
      "image/png": "[encoded data removed]",
      "text/plain": [
       "<Figure size 432x288 with 1 Axes>"
      ]
     },
     "metadata": {
      "needs_background": "light"
     },
     "output_type": "display_data"
    }
   ],
   "source": [
    "data = read_data('Phones_accelerometer')\n",
    "param_range = [0.0001, 0.001, 0.01, 0.1]\n",
    "\n",
    "feats, y = get_simple_features(data, wsize='10s')\n",
    "# split data into train and test sets\n",
    "X_train, X_test, y_train, y_test = train_test_split(feats, y, test_size=.25, random_state=0, stratify=y)\n",
    "\n",
    "\n",
    "print('Support Vector Machine')\n",
    "model, params = train_model(X_train, y_train, \n",
    "                    est=SVC(probability=True),\n",
    "                    grid={'C': param_range, 'gamma': param_range, 'kernel': ['linear']})\n",
    "eval_model(model, X_test, y_test, 'SVC')\n",
    "              \n",
    "print('Random Forest')\n",
    "model, params = train_model(X_train, y_train, \n",
    "                    est=RandomForestClassifier(n_jobs=-1, criterion='entropy'),\n",
    "                    grid={'n_estimators':[50, 100, 200]})\n",
    "eval_model(model, X_test, y_test,'Forest')\n",
    "\n",
    "print('Gradient Boosting')\n",
    "model, params = train_model(X_train, y_train, \n",
    "                    est=GradientBoostingClassifier(learning_rate=1.0, random_state=0),\n",
    "                    grid={'n_estimators':[50, 200, 400], 'max_depth':[1,2,3],\n",
    "                          'learning_rate':[.1,.05,.01,.005]})\n",
    "eval_model(model, X_test, y_test,'GBC')\n",
    "\n",
    "print('Ada Boosting')\n",
    "model, params = train_model(X_train, y_train, \n",
    "                    est=AdaBoostClassifier(),\n",
    "                    grid={'n_estimators':[50, 200, 400], 'learning_rate':[.1,.05,.01,.005]})\n",
    "eval_model(model, X_test, y_test,'ABC')\n",
    "\n",
    "print('K-Nearest Neighbor')\n",
    "model, params = train_model(X_train, y_train, \n",
    "                    est=KNeighborsClassifier(),\n",
    "                    grid={'n_neighbors':[5, 8, 10], 'weights':['uniform', 'distance']})\n",
    "eval_model(model, X_test, y_test,'KNN')"
   ]
  },
  {
   "cell_type": "markdown",
   "metadata": {},
   "source": [
    "### Trying different windows sizes.\n",
    "\n",
    "The choice of a window size of 10sec was quite arbitrary. In the research papers on HAR different window sizes were used that range from 1 sec to 20 sec.\n",
    "Also two types of windows are used in the field, disjoint and overlapping. get_features2 defines the same features defined before but using rolling window and taking only values at overlapping of 50%.\n",
    "AUC scores are comparable, and the best accuracy score is .92 for overlapping-window of size 2sec."
   ]
  },
  {
   "cell_type": "code",
   "execution_count": 15,
   "metadata": {},
   "outputs": [],
   "source": [
    "def get_advanced_features(data, wsize_sec, overlap=.5):\n",
    "    print('::::START:::: Get Advance Features ::::')\n",
    "    \n",
    "    wsize = int(10*wsize_sec)\n",
    "    feats = data[['x','y','z']].rolling(wsize,int(wsize/2)).mean().add_suffix('_mean')\n",
    "    feat = data[['x','y','z']].rolling(wsize, int(wsize/2)).std().add_suffix('_std')\n",
    "    feats = feats.join(feat)\n",
    "    \n",
    "    feat = data[['x','y','z']].rolling(wsize, int(wsize/2)).var().add_suffix('_var')\n",
    "    feats = feats.join(feat)\n",
    "    \n",
    "    feat = data[['x','y','z']].rolling(wsize, int(wsize/2)).apply(rms).add_suffix('_rms')\n",
    "    feats = feats.join(feat)\n",
    "        \n",
    "    mean_mag = (data**2).sum(axis=1).rolling(wsize, int(wsize/2)).apply(lambda ts: np.sqrt(ts).mean())\n",
    "    mean_mag.name = 'mean_mag'\n",
    "    feats = feats.join(mean_mag) \n",
    "    \n",
    "    pairs_cor_ = data[['x','y','z']].rolling(window=int(wsize/2)).corr(other=data[['x','y','z']])\n",
    "    feats = feats.join(pairs_cor_)\n",
    "    \n",
    "    y = data[['label']].rolling(wsize, int(wsize/2)).apply(lambda ts: mode(ts)[0])  \n",
    "    feats = feats.iloc[int(wsize*overlap)::int(wsize*overlap)] \n",
    "    \n",
    "    y = y.iloc[int(wsize*overlap)::int(wsize*overlap)]\n",
    "    print('::::END:::: Get features Advance::::')\n",
    "    return feats, y\n",
    "\n",
    "    "
   ]
  },
  {
   "cell_type": "markdown",
   "metadata": {},
   "source": [
    "<h2>Test Example</h2>"
   ]
  },
  {
   "cell_type": "code",
   "execution_count": 16,
   "metadata": {},
   "outputs": [
    {
     "name": "stdout",
     "output_type": "stream",
     "text": [
      "Window Size: 2 sec\n",
      "Min periodos: 1.0\n",
      "Disjoint window:\n",
      "::::START:::: Get Simple Features::::\n",
      "::::END:::: Get Simple Features::::\n",
      "::::Eval Model::::\n",
      "Accuracy score on the test set: 0.975\n",
      "Confusion Matrix...\n",
      "      1     2     3     4     5     6\n",
      "1  4451     5     1     2     1     0\n",
      "2     7  4797     0     0     0     0\n",
      "3     4     0  5131   123    25     2\n",
      "4     1     0   100  4062   126     6\n",
      "5     0     0     5   186  3664    34\n",
      "6     0     0     0     4    46  4394\n",
      "AUC score: 0.999\n",
      "Overlapping window:\n",
      "::::START:::: Get Advance Features ::::\n",
      "::::END:::: Get features Advance::::\n",
      "Input contains NaN, infinity or a value too large for dtype('float32').\n"
     ]
    }
   ],
   "source": [
    "win_sizes = ['2']#,'3', '5', '7', '10', '13', '15', '20']\n",
    "best_model = RandomForestClassifier(criterion='entropy', n_jobs=-1, n_estimators=50)\n",
    "\n",
    "for wsize in win_sizes:\n",
    "    print('Window Size: %s sec' % wsize)\n",
    "    print('Min periodos:', int(wsize)/2)\n",
    "    try:\n",
    "        # disjoint window\n",
    "        print('Disjoint window:')\n",
    "        feats, y = get_simple_features(data, wsize=wsize + 's')\n",
    "        X_train, X_test, y_train, y_test = train_test_split(feats, y, test_size=.25,\n",
    "                                                            random_state=0, stratify=y)\n",
    "        best_model.fit(X_train, y_train)\n",
    "        roc_auc, acc = eval_model(best_model, X_test, y_test,'%ss - disjoint' %wsize, plt_roc=False)\n",
    "        print('AUC score: %.3f' % roc_auc)\n",
    "\n",
    "\n",
    "        # overlapping window\n",
    "        print('Overlapping window:')\n",
    "        feats, y = get_advanced_features(data, int(wsize))\n",
    "        X_train, X_test, y_train, y_test = train_test_split(feats, y, test_size=.25,\n",
    "                                                            random_state=0, stratify=y)\n",
    "        best_model.fit(X_train, y_train)\n",
    "        roc_auc, acc = eval_model(best_model, X_test, y_test,'%ss - overlapping' %wsize, plt_roc=False)\n",
    "        print('AUC score: %.3f' % roc_auc)\n",
    "    except Exception as e:\n",
    "        print(e)"
   ]
  },
  {
   "cell_type": "markdown",
   "metadata": {},
   "source": [
    "### Testing model on the full dataset."
   ]
  },
  {
   "cell_type": "code",
   "execution_count": 19,
   "metadata": {},
   "outputs": [
    {
     "name": "stdout",
     "output_type": "stream",
     "text": [
      "::::Read Data::::\n"
     ]
    },
    {
     "ename": "MemoryError",
     "evalue": "",
     "output_type": "error",
     "traceback": [
      "\u001b[0;31m---------------------------------------------------------------------------\u001b[0m",
      "\u001b[0;31mMemoryError\u001b[0m                               Traceback (most recent call last)",
      "\u001b[0;32m<ipython-input-19-d1d31deea5bd>\u001b[0m in \u001b[0;36m<module>\u001b[0;34m\u001b[0m\n\u001b[0;32m----> 1\u001b[0;31m \u001b[0mdata2\u001b[0m \u001b[0;34m=\u001b[0m \u001b[0mread_data\u001b[0m\u001b[0;34m(\u001b[0m\u001b[0;34m'all'\u001b[0m\u001b[0;34m)\u001b[0m\u001b[0;34m\u001b[0m\u001b[0;34m\u001b[0m\u001b[0m\n\u001b[0m\u001b[1;32m      2\u001b[0m \u001b[0mfeats\u001b[0m\u001b[0;34m,\u001b[0m \u001b[0my\u001b[0m \u001b[0;34m=\u001b[0m \u001b[0mget_advanced_features\u001b[0m\u001b[0;34m(\u001b[0m\u001b[0mdata2\u001b[0m\u001b[0;34m,\u001b[0m \u001b[0;36m2\u001b[0m\u001b[0;34m)\u001b[0m\u001b[0;34m\u001b[0m\u001b[0;34m\u001b[0m\u001b[0m\n\u001b[1;32m      3\u001b[0m X_train, X_test, y_train, y_test = train_test_split(feats, y, test_size=.25,\n\u001b[1;32m      4\u001b[0m                                                     random_state=0, stratify=y)\n\u001b[1;32m      5\u001b[0m \u001b[0mbest_model\u001b[0m\u001b[0;34m.\u001b[0m\u001b[0mfit\u001b[0m\u001b[0;34m(\u001b[0m\u001b[0mX_train\u001b[0m\u001b[0;34m,\u001b[0m \u001b[0my_train\u001b[0m\u001b[0;34m)\u001b[0m\u001b[0;34m\u001b[0m\u001b[0;34m\u001b[0m\u001b[0m\n",
      "\u001b[0;32m<ipython-input-18-41bb6c359b58>\u001b[0m in \u001b[0;36mread_data\u001b[0;34m(fname)\u001b[0m\n\u001b[1;32m     11\u001b[0m             data = pd.read_csv('data/Phones_accelerometer.csv', \n\u001b[1;32m     12\u001b[0m                                \u001b[0mnames\u001b[0m\u001b[0;34m=\u001b[0m\u001b[0;34m[\u001b[0m\u001b[0;34m'id'\u001b[0m\u001b[0;34m,\u001b[0m \u001b[0;34m'arrival_time'\u001b[0m\u001b[0;34m,\u001b[0m \u001b[0;34m'creation_time'\u001b[0m\u001b[0;34m,\u001b[0m \u001b[0;34m'x'\u001b[0m\u001b[0;34m,\u001b[0m \u001b[0;34m'y'\u001b[0m\u001b[0;34m,\u001b[0m \u001b[0;34m'z'\u001b[0m\u001b[0;34m,\u001b[0m \u001b[0;34m'user'\u001b[0m\u001b[0;34m,\u001b[0m \u001b[0;34m'model'\u001b[0m\u001b[0;34m,\u001b[0m \u001b[0;34m'device'\u001b[0m\u001b[0;34m,\u001b[0m \u001b[0;34m'label'\u001b[0m\u001b[0;34m]\u001b[0m\u001b[0;34m,\u001b[0m\u001b[0;34m\u001b[0m\u001b[0;34m\u001b[0m\u001b[0m\n\u001b[0;32m---> 13\u001b[0;31m                                header=None, index_col=0,usecols=['id','x','y','z','label'])\n\u001b[0m\u001b[1;32m     14\u001b[0m             \u001b[0mdata\u001b[0m\u001b[0;34m.\u001b[0m\u001b[0mindex\u001b[0m \u001b[0;34m=\u001b[0m \u001b[0mpd\u001b[0m\u001b[0;34m.\u001b[0m\u001b[0mdate_range\u001b[0m\u001b[0;34m(\u001b[0m\u001b[0mstart\u001b[0m\u001b[0;34m=\u001b[0m\u001b[0mdt\u001b[0m\u001b[0;34m,\u001b[0m \u001b[0mperiods\u001b[0m\u001b[0;34m=\u001b[0m\u001b[0mdata\u001b[0m\u001b[0;34m.\u001b[0m\u001b[0mshape\u001b[0m\u001b[0;34m[\u001b[0m\u001b[0;36m0\u001b[0m\u001b[0;34m]\u001b[0m\u001b[0;34m,\u001b[0m \u001b[0mfreq\u001b[0m\u001b[0;34m=\u001b[0m\u001b[0mfreq\u001b[0m\u001b[0;34m)\u001b[0m\u001b[0;34m\u001b[0m\u001b[0;34m\u001b[0m\u001b[0m\n\u001b[1;32m     15\u001b[0m             \u001b[0mdt\u001b[0m \u001b[0;34m+=\u001b[0m \u001b[0mtimedelta\u001b[0m\u001b[0;34m(\u001b[0m\u001b[0mhours\u001b[0m\u001b[0;34m=\u001b[0m\u001b[0;36m3\u001b[0m\u001b[0;34m)\u001b[0m\u001b[0;34m\u001b[0m\u001b[0;34m\u001b[0m\u001b[0m\n",
      "\u001b[0;32m~/.local/lib/python3.6/site-packages/pandas/io/parsers.py\u001b[0m in \u001b[0;36mparser_f\u001b[0;34m(filepath_or_buffer, sep, delimiter, header, names, index_col, usecols, squeeze, prefix, mangle_dupe_cols, dtype, engine, converters, true_values, false_values, skipinitialspace, skiprows, skipfooter, nrows, na_values, keep_default_na, na_filter, verbose, skip_blank_lines, parse_dates, infer_datetime_format, keep_date_col, date_parser, dayfirst, iterator, chunksize, compression, thousands, decimal, lineterminator, quotechar, quoting, doublequote, escapechar, comment, encoding, dialect, tupleize_cols, error_bad_lines, warn_bad_lines, delim_whitespace, low_memory, memory_map, float_precision)\u001b[0m\n\u001b[1;32m    700\u001b[0m                     skip_blank_lines=skip_blank_lines)\n\u001b[1;32m    701\u001b[0m \u001b[0;34m\u001b[0m\u001b[0m\n\u001b[0;32m--> 702\u001b[0;31m         \u001b[0;32mreturn\u001b[0m \u001b[0m_read\u001b[0m\u001b[0;34m(\u001b[0m\u001b[0mfilepath_or_buffer\u001b[0m\u001b[0;34m,\u001b[0m \u001b[0mkwds\u001b[0m\u001b[0;34m)\u001b[0m\u001b[0;34m\u001b[0m\u001b[0;34m\u001b[0m\u001b[0m\n\u001b[0m\u001b[1;32m    703\u001b[0m \u001b[0;34m\u001b[0m\u001b[0m\n\u001b[1;32m    704\u001b[0m     \u001b[0mparser_f\u001b[0m\u001b[0;34m.\u001b[0m\u001b[0m__name__\u001b[0m \u001b[0;34m=\u001b[0m \u001b[0mname\u001b[0m\u001b[0;34m\u001b[0m\u001b[0;34m\u001b[0m\u001b[0m\n",
      "\u001b[0;32m~/.local/lib/python3.6/site-packages/pandas/io/parsers.py\u001b[0m in \u001b[0;36m_read\u001b[0;34m(filepath_or_buffer, kwds)\u001b[0m\n\u001b[1;32m    433\u001b[0m \u001b[0;34m\u001b[0m\u001b[0m\n\u001b[1;32m    434\u001b[0m     \u001b[0;32mtry\u001b[0m\u001b[0;34m:\u001b[0m\u001b[0;34m\u001b[0m\u001b[0;34m\u001b[0m\u001b[0m\n\u001b[0;32m--> 435\u001b[0;31m         \u001b[0mdata\u001b[0m \u001b[0;34m=\u001b[0m \u001b[0mparser\u001b[0m\u001b[0;34m.\u001b[0m\u001b[0mread\u001b[0m\u001b[0;34m(\u001b[0m\u001b[0mnrows\u001b[0m\u001b[0;34m)\u001b[0m\u001b[0;34m\u001b[0m\u001b[0;34m\u001b[0m\u001b[0m\n\u001b[0m\u001b[1;32m    436\u001b[0m     \u001b[0;32mfinally\u001b[0m\u001b[0;34m:\u001b[0m\u001b[0;34m\u001b[0m\u001b[0;34m\u001b[0m\u001b[0m\n\u001b[1;32m    437\u001b[0m         \u001b[0mparser\u001b[0m\u001b[0;34m.\u001b[0m\u001b[0mclose\u001b[0m\u001b[0;34m(\u001b[0m\u001b[0;34m)\u001b[0m\u001b[0;34m\u001b[0m\u001b[0;34m\u001b[0m\u001b[0m\n",
      "\u001b[0;32m~/.local/lib/python3.6/site-packages/pandas/io/parsers.py\u001b[0m in \u001b[0;36mread\u001b[0;34m(self, nrows)\u001b[0m\n\u001b[1;32m   1137\u001b[0m     \u001b[0;32mdef\u001b[0m \u001b[0mread\u001b[0m\u001b[0;34m(\u001b[0m\u001b[0mself\u001b[0m\u001b[0;34m,\u001b[0m \u001b[0mnrows\u001b[0m\u001b[0;34m=\u001b[0m\u001b[0;32mNone\u001b[0m\u001b[0;34m)\u001b[0m\u001b[0;34m:\u001b[0m\u001b[0;34m\u001b[0m\u001b[0;34m\u001b[0m\u001b[0m\n\u001b[1;32m   1138\u001b[0m         \u001b[0mnrows\u001b[0m \u001b[0;34m=\u001b[0m \u001b[0m_validate_integer\u001b[0m\u001b[0;34m(\u001b[0m\u001b[0;34m'nrows'\u001b[0m\u001b[0;34m,\u001b[0m \u001b[0mnrows\u001b[0m\u001b[0;34m)\u001b[0m\u001b[0;34m\u001b[0m\u001b[0;34m\u001b[0m\u001b[0m\n\u001b[0;32m-> 1139\u001b[0;31m         \u001b[0mret\u001b[0m \u001b[0;34m=\u001b[0m \u001b[0mself\u001b[0m\u001b[0;34m.\u001b[0m\u001b[0m_engine\u001b[0m\u001b[0;34m.\u001b[0m\u001b[0mread\u001b[0m\u001b[0;34m(\u001b[0m\u001b[0mnrows\u001b[0m\u001b[0;34m)\u001b[0m\u001b[0;34m\u001b[0m\u001b[0;34m\u001b[0m\u001b[0m\n\u001b[0m\u001b[1;32m   1140\u001b[0m \u001b[0;34m\u001b[0m\u001b[0m\n\u001b[1;32m   1141\u001b[0m         \u001b[0;31m# May alter columns / col_dict\u001b[0m\u001b[0;34m\u001b[0m\u001b[0;34m\u001b[0m\u001b[0;34m\u001b[0m\u001b[0m\n",
      "\u001b[0;32m~/.local/lib/python3.6/site-packages/pandas/io/parsers.py\u001b[0m in \u001b[0;36mread\u001b[0;34m(self, nrows)\u001b[0m\n\u001b[1;32m   1993\u001b[0m     \u001b[0;32mdef\u001b[0m \u001b[0mread\u001b[0m\u001b[0;34m(\u001b[0m\u001b[0mself\u001b[0m\u001b[0;34m,\u001b[0m \u001b[0mnrows\u001b[0m\u001b[0;34m=\u001b[0m\u001b[0;32mNone\u001b[0m\u001b[0;34m)\u001b[0m\u001b[0;34m:\u001b[0m\u001b[0;34m\u001b[0m\u001b[0;34m\u001b[0m\u001b[0m\n\u001b[1;32m   1994\u001b[0m         \u001b[0;32mtry\u001b[0m\u001b[0;34m:\u001b[0m\u001b[0;34m\u001b[0m\u001b[0;34m\u001b[0m\u001b[0m\n\u001b[0;32m-> 1995\u001b[0;31m             \u001b[0mdata\u001b[0m \u001b[0;34m=\u001b[0m \u001b[0mself\u001b[0m\u001b[0;34m.\u001b[0m\u001b[0m_reader\u001b[0m\u001b[0;34m.\u001b[0m\u001b[0mread\u001b[0m\u001b[0;34m(\u001b[0m\u001b[0mnrows\u001b[0m\u001b[0;34m)\u001b[0m\u001b[0;34m\u001b[0m\u001b[0;34m\u001b[0m\u001b[0m\n\u001b[0m\u001b[1;32m   1996\u001b[0m         \u001b[0;32mexcept\u001b[0m \u001b[0mStopIteration\u001b[0m\u001b[0;34m:\u001b[0m\u001b[0;34m\u001b[0m\u001b[0;34m\u001b[0m\u001b[0m\n\u001b[1;32m   1997\u001b[0m             \u001b[0;32mif\u001b[0m \u001b[0mself\u001b[0m\u001b[0;34m.\u001b[0m\u001b[0m_first_chunk\u001b[0m\u001b[0;34m:\u001b[0m\u001b[0;34m\u001b[0m\u001b[0;34m\u001b[0m\u001b[0m\n",
      "\u001b[0;32mpandas/_libs/parsers.pyx\u001b[0m in \u001b[0;36mpandas._libs.parsers.TextReader.read\u001b[0;34m()\u001b[0m\n",
      "\u001b[0;32mpandas/_libs/parsers.pyx\u001b[0m in \u001b[0;36mpandas._libs.parsers.TextReader._read_low_memory\u001b[0;34m()\u001b[0m\n",
      "\u001b[0;32mpandas/_libs/parsers.pyx\u001b[0m in \u001b[0;36mpandas._libs.parsers._concatenate_chunks\u001b[0;34m()\u001b[0m\n",
      "\u001b[0;31mMemoryError\u001b[0m: "
     ]
    }
   ],
   "source": [
    "data2 = read_data('all') \n",
    "feats, y = get_advanced_features(data2, 2)\n",
    "X_train, X_test, y_train, y_test = train_test_split(feats, y, test_size=.25,\n",
    "                                                    random_state=0, stratify=y)\n",
    "best_model.fit(X_train, y_train)\n",
    "eval_model(best_model, X_test, y_test,'2sec - overlapping')\n"
   ]
  },
  {
   "cell_type": "code",
   "execution_count": null,
   "metadata": {},
   "outputs": [],
   "source": []
  }
 ],
 "metadata": {
  "kernelspec": {
   "display_name": "Python 3",
   "language": "python",
   "name": "python3"
  },
  "language_info": {
   "codemirror_mode": {
    "name": "ipython",
    "version": 3
   },
   "file_extension": ".py",
   "mimetype": "text/x-python",
   "name": "python",
   "nbconvert_exporter": "python",
   "pygments_lexer": "ipython3",
   "version": "3.6.7"
  }
 },
 "nbformat": 4,
 "nbformat_minor": 1
}
