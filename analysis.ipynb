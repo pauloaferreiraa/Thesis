{
 "cells": [
  {
   "cell_type": "markdown",
   "metadata": {},
   "source": [
    "### Human activity recognition.\n",
    "The dataset: <http://archive.ics.uci.edu/ml/datasets/Activity+Recognition+from+Single+Chest-Mounted+Accelerometer#>"
   ]
  },
  {
   "cell_type": "code",
   "execution_count": 1,
   "metadata": {},
   "outputs": [],
   "source": [
    "%matplotlib inline\n",
    "import pandas as pd\n",
    "from matplotlib import pyplot as plt\n",
    "import numpy as np\n",
    "from datetime import datetime, timedelta\n",
    "import warnings\n",
    "warnings.filterwarnings('ignore')"
   ]
  },
  {
   "cell_type": "code",
   "execution_count": 2,
   "metadata": {},
   "outputs": [],
   "source": [
    "from sklearn.model_selection import train_test_split\n",
    "from sklearn.preprocessing import label_binarize\n",
    "from sklearn.model_selection import GridSearchCV\n",
    "from sklearn.metrics import confusion_matrix, roc_curve, auc, accuracy_score\n",
    "from sklearn.svm import SVC\n",
    "from sklearn.tree import DecisionTreeClassifier\n",
    "from sklearn.ensemble import RandomForestClassifier, GradientBoostingClassifier, AdaBoostClassifier, VotingClassifier\n",
    "from sklearn.neighbors import KNeighborsClassifier\n",
    "\n",
    "from scipy.stats import mode"
   ]
  },
  {
   "cell_type": "code",
   "execution_count": 3,
   "metadata": {},
   "outputs": [],
   "source": [
    "def read_data(fname='all'):\n",
    "    print('::::Read Data::::')\n",
    "    freq = '19230U'   # ~19ms, using sampling frequency is 52samples/sec\n",
    "    dt = datetime.now()\n",
    "    data = pd.DataFrame()\n",
    "    \n",
    "    if fname == 'all':    # read all files\n",
    "        data_files = []\n",
    "        \n",
    "        for f_id in range(1,16):\n",
    "            data = pd.read_csv('data/%d.csv' %f_id, \n",
    "                               names=['id', 'x', 'y', 'z', 'label'], \n",
    "                               header=None, index_col=0)\n",
    "            data.index = pd.date_range(start=dt, periods=data.shape[0], freq=freq)\n",
    "            dt += timedelta(hours=3)\n",
    "            data_files.append(data)\n",
    "            \n",
    "        data = pd.concat(data_files)\n",
    "    \n",
    "    else:    # read one file only\n",
    "        data = pd.read_csv('data/%s.csv' %fname, \n",
    "                   names=['id', 'x', 'y', 'z', 'label'], \n",
    "                   header=None, index_col=0)\n",
    "\n",
    "        data.index = pd.date_range(start='00:00:00', periods=data.shape[0], freq=freq)\n",
    "        \n",
    "    # Filter and clean data\n",
    "    data = data.dropna()\n",
    "    data = data[data['label'] != 0]   # some rows are misclassified as 0\n",
    "        \n",
    "    return data"
   ]
  },
  {
   "cell_type": "markdown",
   "metadata": {},
   "source": [
    "### Feature extraction.\n",
    "Segment the data using sliding window of size 10s, and from each window extract the common features (mean, standard deviation, variance), and some other features used specifically for Human Activity Recognition like RMS (Root Mean Square), magnitude of acceleration, and pairwise correlation between x, y, z."
   ]
  },
  {
   "cell_type": "code",
   "execution_count": 4,
   "metadata": {},
   "outputs": [],
   "source": [
    "def rms(ts): return np.sqrt(np.mean(ts**2))\n",
    "\n",
    "def corr(df): \n",
    "    cor = df.corr()\n",
    "    return pd.DataFrame({'xy':[cor['x']['y']], 'xz':[cor['x']['z']], 'yz':[cor['y']['z']]})\n",
    "\n",
    "def get_simple_features(data, wsize='10s', f_list=['mean', 'std', 'var', rms]):\n",
    "    print('::::START:::: Get Simple Features::::')\n",
    "    # f_list is a list of features names or methods to apply in resampling\n",
    "    \n",
    "    # features that invlove one dimension only.\n",
    "    fname = '_' + (f_list[0] if isinstance(f_list[0], str) else f_list[0].__name__)   \n",
    "    feats = data[['x','y','z']].resample(wsize, how=f_list[0]).add_suffix(fname)\n",
    "    \n",
    "    for i, f in enumerate(f_list[1:]):\n",
    "        fname = '_' + (f if isinstance(f, str) else f.__name__)\n",
    "        feat = data[['x','y','z']].resample(wsize, how=f).add_suffix(fname)\n",
    "        feats = feats.join(feat)   \n",
    "\n",
    "    # features that involve more than one dimension.                                               \n",
    "    mean_mag = (data**2).sum(axis=1).resample(wsize, how=lambda ts: np.sqrt(ts).mean())\n",
    "    mean_mag.name = 'mean_mag'\n",
    "    feats = feats.join(mean_mag) \n",
    "\n",
    "    pairs_cor = data.groupby(pd.TimeGrouper(wsize)).apply(corr).reset_index(1, drop=True)\n",
    "    feats = feats.join(pairs_cor) \n",
    "    \n",
    "    y = data['label'].resample(wsize, how=lambda ts: mode(ts)[0] if ts.shape[0] > 0 else np.nan)   \n",
    "\n",
    "    # drop any nan values\n",
    "    mask = np.any(np.isnan(feats), axis=1)\n",
    "    feats, y = feats[~mask], y[~mask]\n",
    "    mask = np.isnan(y)\n",
    "    feats, y = feats[~mask], y[~mask]\n",
    "    print('::::END:::: Get Simple Features::::')\n",
    "    return (feats, y)\n"
   ]
  },
  {
   "cell_type": "markdown",
   "metadata": {},
   "source": [
    "### Choosing and tuning the model.\n",
    "\n",
    "Splitting data (after feature extraction) into train and test subsets. Using grid search on the training set each model is trained and tuned, then the models are compared according to their performance on the test set using accuracy and AUC (Area Under ROC Curve). The best accuracy result of .899 for SVM and RandomForest, and best AUC result of .99 for RandomForest.\n",
    "\n",
    "    Activity codes in confusion matrix:\n",
    "    1: Working at Computer\n",
    "    2: Standing Up, Walking and Going up\\down stairs\n",
    "    3: Standing\n",
    "    4: Walking\n",
    "    5: Going Up\\Down Stairs\n",
    "    6: Walking and Talking with Someone\n",
    "    7: Talking while Standing\n",
    "    "
   ]
  },
  {
   "cell_type": "code",
   "execution_count": 5,
   "metadata": {},
   "outputs": [],
   "source": [
    "def train_model(X, y, est, grid):\n",
    "    print('::::Train Model::::')\n",
    "    gs = GridSearchCV(estimator=est, param_grid=grid, scoring='accuracy', cv=5, n_jobs=-1)\n",
    "    gs = gs.fit(X, y)\n",
    "    \n",
    "    return (gs.best_estimator_, gs.best_params_)\n",
    "\n",
    "def eval_model(mod, X_test, y_test, mod_name, plt_roc=True):\n",
    "    print('::::Eval Model::::')\n",
    "    y_prob = mod.predict_proba(X_test)\n",
    "    y_test_bin = label_binarize(y_test, classes=[1, 2, 3, 4, 5, 6, 7])\n",
    "    fpr, tpr, _ = roc_curve(y_test_bin.ravel(), y_prob.ravel())\n",
    "    roc_auc = auc(fpr, tpr)\n",
    "    \n",
    "    if plt_roc:\n",
    "        plt.plot(fpr, tpr, lw=2,\n",
    "                 label='average ROC curve (auc=%0.2f), model: %s' % (roc_auc,mod_name))\n",
    "        plt.legend(loc=\"lower right\")\n",
    "    \n",
    "    y_pred = mod.predict(X_test)\n",
    "    score = accuracy_score(y_true=y_test, y_pred=y_pred)\n",
    "    print('Accuracy score on the test set: %.3f' %score)\n",
    "    \n",
    "    confusion_ma = confusion_matrix(y_true=y_test, y_pred=y_pred)\n",
    "    confusion_ma = pd.DataFrame(confusion_ma, index=list(range(1,8)), columns=list(range(1,8)))\n",
    "    print('Confusion Matrix...')\n",
    "    print(confusion_ma)\n",
    "    \n",
    "    return (roc_auc, score)\n"
   ]
  },
  {
   "cell_type": "markdown",
   "metadata": {},
   "source": [
    "<h2>Test Example</h2>"
   ]
  },
  {
   "cell_type": "code",
   "execution_count": 6,
   "metadata": {},
   "outputs": [
    {
     "name": "stdout",
     "output_type": "stream",
     "text": [
      "::::Read Data::::\n",
      "::::START:::: Get Simple Features::::\n",
      "::::END:::: Get Simple Features::::\n",
      "Support Vector Machine\n",
      "::::Train Model::::\n"
     ]
    },
    {
     "name": "stderr",
     "output_type": "stream",
     "text": [
      "/Users/mfcardenas/Anaconda37/anaconda3/lib/python3.7/site-packages/sklearn/model_selection/_search.py:841: DeprecationWarning: The default of the `iid` parameter will change from True to False in version 0.22 and will be removed in 0.24. This will change numeric results when test-set sizes are unequal.\n",
      "  DeprecationWarning)\n"
     ]
    },
    {
     "name": "stdout",
     "output_type": "stream",
     "text": [
      "::::Eval Model::::\n",
      "Accuracy score on the test set: 0.899\n",
      "Confusion Matrix...\n",
      "    1  2  3   4  5  6   7\n",
      "1  15  0  0   0  0  1   0\n",
      "2   0  0  1   0  0  0   0\n",
      "3   0  0  1   0  0  0   4\n",
      "4   0  0  0  12  0  0   1\n",
      "5   0  0  0   0  2  0   0\n",
      "6   0  0  0   1  0  0   0\n",
      "7   0  0  0   0  0  0  41\n",
      "Random Forest\n",
      "::::Train Model::::\n"
     ]
    },
    {
     "name": "stderr",
     "output_type": "stream",
     "text": [
      "/Users/mfcardenas/Anaconda37/anaconda3/lib/python3.7/site-packages/sklearn/model_selection/_search.py:841: DeprecationWarning: The default of the `iid` parameter will change from True to False in version 0.22 and will be removed in 0.24. This will change numeric results when test-set sizes are unequal.\n",
      "  DeprecationWarning)\n"
     ]
    },
    {
     "name": "stdout",
     "output_type": "stream",
     "text": [
      "::::Eval Model::::\n",
      "Accuracy score on the test set: 0.886\n",
      "Confusion Matrix...\n",
      "    1  2  3   4  5  6   7\n",
      "1  15  0  0   0  1  0   0\n",
      "2   0  0  0   0  0  0   1\n",
      "3   0  0  0   0  0  0   5\n",
      "4   0  0  0  13  0  0   0\n",
      "5   0  0  0   0  2  0   0\n",
      "6   0  0  0   1  0  0   0\n",
      "7   0  0  0   1  0  0  40\n",
      "Gradient Boosting\n",
      "::::Train Model::::\n"
     ]
    },
    {
     "name": "stderr",
     "output_type": "stream",
     "text": [
      "/Users/mfcardenas/Anaconda37/anaconda3/lib/python3.7/site-packages/sklearn/model_selection/_search.py:841: DeprecationWarning: The default of the `iid` parameter will change from True to False in version 0.22 and will be removed in 0.24. This will change numeric results when test-set sizes are unequal.\n",
      "  DeprecationWarning)\n"
     ]
    },
    {
     "name": "stdout",
     "output_type": "stream",
     "text": [
      "::::Eval Model::::\n",
      "Accuracy score on the test set: 0.848\n",
      "Confusion Matrix...\n",
      "    1  2  3   4  5  6   7\n",
      "1  15  0  0   0  1  0   0\n",
      "2   1  0  0   0  0  0   0\n",
      "3   0  0  0   0  0  0   5\n",
      "4   0  0  0  12  0  0   1\n",
      "5   0  0  0   0  2  0   0\n",
      "6   0  0  0   1  0  0   0\n",
      "7   0  0  3   0  0  0  38\n",
      "Ada Boosting\n",
      "::::Train Model::::\n"
     ]
    },
    {
     "name": "stderr",
     "output_type": "stream",
     "text": [
      "/Users/mfcardenas/Anaconda37/anaconda3/lib/python3.7/site-packages/sklearn/model_selection/_search.py:841: DeprecationWarning: The default of the `iid` parameter will change from True to False in version 0.22 and will be removed in 0.24. This will change numeric results when test-set sizes are unequal.\n",
      "  DeprecationWarning)\n"
     ]
    },
    {
     "name": "stdout",
     "output_type": "stream",
     "text": [
      "::::Eval Model::::\n",
      "Accuracy score on the test set: 0.873\n",
      "Confusion Matrix...\n",
      "    1  2  3   4  5  6   7\n",
      "1  15  0  0   1  0  0   0\n",
      "2   0  0  0   0  0  0   1\n",
      "3   0  0  0   0  0  0   5\n",
      "4   0  0  0  13  0  0   0\n",
      "5   0  0  0   2  0  0   0\n",
      "6   0  0  0   1  0  0   0\n",
      "7   0  0  0   0  0  0  41\n",
      "K-Nearest Neighbor\n",
      "::::Train Model::::\n",
      "::::Eval Model::::\n",
      "Accuracy score on the test set: 0.861\n",
      "Confusion Matrix...\n",
      "    1  2  3   4  5  6   7\n",
      "1  14  0  0   1  0  0   1\n",
      "2   0  0  0   0  0  0   1\n",
      "3   0  0  1   0  0  0   4\n",
      "4   0  0  0  13  0  0   0\n",
      "5   0  0  0   2  0  0   0\n",
      "6   0  0  0   1  0  0   0\n",
      "7   1  0  0   0  0  0  40\n"
     ]
    },
    {
     "name": "stderr",
     "output_type": "stream",
     "text": [
      "/Users/mfcardenas/Anaconda37/anaconda3/lib/python3.7/site-packages/sklearn/model_selection/_search.py:841: DeprecationWarning: The default of the `iid` parameter will change from True to False in version 0.22 and will be removed in 0.24. This will change numeric results when test-set sizes are unequal.\n",
      "  DeprecationWarning)\n"
     ]
    },
    {
     "data": {
      "text/plain": [
       "(0.9464562303049725, 0.8607594936708861)"
      ]
     },
     "execution_count": 6,
     "metadata": {},
     "output_type": "execute_result"
    },
    {
     "data": {
      "image/png": "[encoded data removed]",
      "text/plain": [
       "<Figure size 432x288 with 1 Axes>"
      ]
     },
     "metadata": {
      "needs_background": "light"
     },
     "output_type": "display_data"
    }
   ],
   "source": [
    "data = read_data('1')\n",
    "param_range = [0.0001, 0.001, 0.01, 0.1]\n",
    "\n",
    "feats, y = get_simple_features(data, wsize='10s')\n",
    "# split data into train and test sets\n",
    "X_train, X_test, y_train, y_test = train_test_split(feats, y, test_size=.25, random_state=0, stratify=y)\n",
    "\n",
    "\n",
    "print('Support Vector Machine')\n",
    "model, params = train_model(X_train, y_train, \n",
    "                    est=SVC(probability=True),\n",
    "                    grid={'C': param_range, 'gamma': param_range, 'kernel': ['linear']})\n",
    "eval_model(model, X_test, y_test, 'SVC')\n",
    "              \n",
    "print('Random Forest')\n",
    "model, params = train_model(X_train, y_train, \n",
    "                    est=RandomForestClassifier(n_jobs=-1, criterion='entropy'),\n",
    "                    grid={'n_estimators':[50, 100, 200]})\n",
    "eval_model(model, X_test, y_test,'Forest')\n",
    "\n",
    "print('Gradient Boosting')\n",
    "model, params = train_model(X_train, y_train, \n",
    "                    est=GradientBoostingClassifier(learning_rate=1.0, random_state=0),\n",
    "                    grid={'n_estimators':[50, 200, 400], 'max_depth':[1,2,3],\n",
    "                          'learning_rate':[.1,.05,.01,.005]})\n",
    "eval_model(model, X_test, y_test,'GBC')\n",
    "\n",
    "print('Ada Boosting')\n",
    "model, params = train_model(X_train, y_train, \n",
    "                    est=AdaBoostClassifier(),\n",
    "                    grid={'n_estimators':[50, 200, 400], 'learning_rate':[.1,.05,.01,.005]})\n",
    "eval_model(model, X_test, y_test,'ABC')\n",
    "\n",
    "print('K-Nearest Neighbor')\n",
    "model, params = train_model(X_train, y_train, \n",
    "                    est=KNeighborsClassifier(),\n",
    "                    grid={'n_neighbors':[5, 8, 10], 'weights':['uniform', 'distance']})\n",
    "eval_model(model, X_test, y_test,'KNN')"
   ]
  },
  {
   "cell_type": "markdown",
   "metadata": {},
   "source": [
    "### Trying different windows sizes.\n",
    "\n",
    "The choice of a window size of 10sec was quite arbitrary. In the research papers on HAR different window sizes were used that range from 1 sec to 20 sec.\n",
    "Also two types of windows are used in the field, disjoint and overlapping. get_features2 defines the same features defined before but using rolling window and taking only values at overlapping of 50%.\n",
    "AUC scores are comparable, and the best accuracy score is .92 for overlapping-window of size 2sec."
   ]
  },
  {
   "cell_type": "code",
   "execution_count": 7,
   "metadata": {},
   "outputs": [],
   "source": [
    "def get_advanced_features(data, wsize_sec, overlap=.5):\n",
    "    print('::::START:::: Get Advance Features ::::')\n",
    "    \n",
    "    wsize = int(10*wsize_sec)\n",
    "    feats = data[['x','y','z']].rolling(wsize,int(wsize/2)).mean().add_suffix('_mean')\n",
    "    feat = data[['x','y','z']].rolling(wsize, int(wsize/2)).std().add_suffix('_std')\n",
    "    feats = feats.join(feat)\n",
    "    \n",
    "    feat = data[['x','y','z']].rolling(wsize, int(wsize/2)).var().add_suffix('_var')\n",
    "    feats = feats.join(feat)\n",
    "    \n",
    "    feat = data[['x','y','z']].rolling(wsize, int(wsize/2)).apply(rms).add_suffix('_rms')\n",
    "    feats = feats.join(feat)\n",
    "        \n",
    "    mean_mag = (data**2).sum(axis=1).rolling(wsize, int(wsize/2)).apply(lambda ts: np.sqrt(ts).mean())\n",
    "    mean_mag.name = 'mean_mag'\n",
    "    feats = feats.join(mean_mag) \n",
    "    \n",
    "    pairs_cor_ = data[['x','y','z']].rolling(window=int(wsize/2)).corr(other=data[['x','y','z']])\n",
    "    feats = feats.join(pairs_cor_)\n",
    "    \n",
    "    y = data[['label']].rolling(wsize, int(wsize/2)).apply(lambda ts: mode(ts)[0])  \n",
    "    feats = feats.iloc[int(wsize*overlap)::int(wsize*overlap)] \n",
    "    \n",
    "    y = y.iloc[int(wsize*overlap)::int(wsize*overlap)]\n",
    "    print('::::END:::: Get features Advance::::')\n",
    "    return feats, y\n",
    "\n",
    "    "
   ]
  },
  {
   "cell_type": "markdown",
   "metadata": {},
   "source": [
    "<h2>Test Example</h2>"
   ]
  },
  {
   "cell_type": "code",
   "execution_count": 8,
   "metadata": {},
   "outputs": [
    {
     "name": "stdout",
     "output_type": "stream",
     "text": [
      "Window Size: 2 sec\n",
      "Min periodos: 1.0\n",
      "Disjoint window:\n",
      "::::START:::: Get Simple Features::::\n",
      "::::END:::: Get Simple Features::::\n",
      "::::Eval Model::::\n",
      "Accuracy score on the test set: 0.905\n",
      "Confusion Matrix...\n",
      "    1  2  3   4  5  6    7\n",
      "1  78  0  0   1  0  0    2\n",
      "2   0  0  0   1  0  0    1\n",
      "3   0  0  9   2  0  0   16\n",
      "4   0  0  0  60  1  0    3\n",
      "5   0  0  0   1  6  0    1\n",
      "6   0  0  0   6  0  1    0\n",
      "7   1  0  1   0  0  0  200\n",
      "AUC score: 0.990\n",
      "Overlapping window:\n",
      "::::START:::: Get Advance Features ::::\n",
      "::::END:::: Get features Advance::::\n",
      "::::Eval Model::::\n",
      "Accuracy score on the test set: 0.905\n",
      "Confusion Matrix...\n",
      "     1  2    3    4   5  6     7\n",
      "1  826  1    0    2   3  0    10\n",
      "2    1  5    0    8   0  0     9\n",
      "3    0  0  114   14   2  0   149\n",
      "4    0  0    5  645   6  3    13\n",
      "5    0  0    0   28  40  1    11\n",
      "6    2  0    3   57   2  4     5\n",
      "7   11  2   29    8   1  0  2043\n",
      "AUC score: 0.990\n"
     ]
    }
   ],
   "source": [
    "win_sizes = ['2']#,'3', '5', '7', '10', '13', '15', '20']\n",
    "best_model = RandomForestClassifier(criterion='entropy', n_jobs=-1, n_estimators=50)\n",
    "\n",
    "for wsize in win_sizes:\n",
    "    print('Window Size: %s sec' % wsize)\n",
    "    print('Min periodos:', int(wsize)/2)\n",
    "    try:\n",
    "        # disjoint window\n",
    "        print('Disjoint window:')\n",
    "        feats, y = get_simple_features(data, wsize=wsize + 's')\n",
    "        X_train, X_test, y_train, y_test = train_test_split(feats, y, test_size=.25,\n",
    "                                                            random_state=0, stratify=y)\n",
    "        best_model.fit(X_train, y_train)\n",
    "        roc_auc, acc = eval_model(best_model, X_test, y_test,'%ss - disjoint' %wsize, plt_roc=False)\n",
    "        print('AUC score: %.3f' % roc_auc)\n",
    "\n",
    "\n",
    "        # overlapping window\n",
    "        print('Overlapping window:')\n",
    "        feats, y = get_advanced_features(data, int(wsize))\n",
    "        X_train, X_test, y_train, y_test = train_test_split(feats, y, test_size=.25,\n",
    "                                                            random_state=0, stratify=y)\n",
    "        best_model.fit(X_train, y_train)\n",
    "        roc_auc, acc = eval_model(best_model, X_test, y_test,'%ss - overlapping' %wsize, plt_roc=False)\n",
    "        print('AUC score: %.3f' % roc_auc)\n",
    "    except Exception as e:\n",
    "        print(e)"
   ]
  },
  {
   "cell_type": "markdown",
   "metadata": {},
   "source": [
    "### Testing model on the full dataset."
   ]
  },
  {
   "cell_type": "code",
   "execution_count": 10,
   "metadata": {},
   "outputs": [
    {
     "name": "stdout",
     "output_type": "stream",
     "text": [
      "::::Read Data::::\n",
      "::::START:::: Get Advance Features ::::\n"
     ]
    },
    {
     "ename": "KeyboardInterrupt",
     "evalue": "",
     "output_type": "error",
     "traceback": [
      "\u001b[0;31m---------------------------------------------------------------------------\u001b[0m",
      "\u001b[0;31mKeyboardInterrupt\u001b[0m                         Traceback (most recent call last)",
      "\u001b[0;32m<ipython-input-10-d1d31deea5bd>\u001b[0m in \u001b[0;36m<module>\u001b[0;34m\u001b[0m\n\u001b[1;32m      1\u001b[0m \u001b[0mdata2\u001b[0m \u001b[0;34m=\u001b[0m \u001b[0mread_data\u001b[0m\u001b[0;34m(\u001b[0m\u001b[0;34m'all'\u001b[0m\u001b[0;34m)\u001b[0m\u001b[0;34m\u001b[0m\u001b[0;34m\u001b[0m\u001b[0m\n\u001b[0;32m----> 2\u001b[0;31m \u001b[0mfeats\u001b[0m\u001b[0;34m,\u001b[0m \u001b[0my\u001b[0m \u001b[0;34m=\u001b[0m \u001b[0mget_advanced_features\u001b[0m\u001b[0;34m(\u001b[0m\u001b[0mdata2\u001b[0m\u001b[0;34m,\u001b[0m \u001b[0;36m2\u001b[0m\u001b[0;34m)\u001b[0m\u001b[0;34m\u001b[0m\u001b[0;34m\u001b[0m\u001b[0m\n\u001b[0m\u001b[1;32m      3\u001b[0m X_train, X_test, y_train, y_test = train_test_split(feats, y, test_size=.25,\n\u001b[1;32m      4\u001b[0m                                                     random_state=0, stratify=y)\n\u001b[1;32m      5\u001b[0m \u001b[0mbest_model\u001b[0m\u001b[0;34m.\u001b[0m\u001b[0mfit\u001b[0m\u001b[0;34m(\u001b[0m\u001b[0mX_train\u001b[0m\u001b[0;34m,\u001b[0m \u001b[0my_train\u001b[0m\u001b[0;34m)\u001b[0m\u001b[0;34m\u001b[0m\u001b[0;34m\u001b[0m\u001b[0m\n",
      "\u001b[0;32m<ipython-input-7-5e6f3bae8914>\u001b[0m in \u001b[0;36mget_advanced_features\u001b[0;34m(data, wsize_sec, overlap)\u001b[0m\n\u001b[1;32m     20\u001b[0m     \u001b[0mfeats\u001b[0m \u001b[0;34m=\u001b[0m \u001b[0mfeats\u001b[0m\u001b[0;34m.\u001b[0m\u001b[0mjoin\u001b[0m\u001b[0;34m(\u001b[0m\u001b[0mpairs_cor_\u001b[0m\u001b[0;34m)\u001b[0m\u001b[0;34m\u001b[0m\u001b[0;34m\u001b[0m\u001b[0m\n\u001b[1;32m     21\u001b[0m \u001b[0;34m\u001b[0m\u001b[0m\n\u001b[0;32m---> 22\u001b[0;31m     \u001b[0my\u001b[0m \u001b[0;34m=\u001b[0m \u001b[0mdata\u001b[0m\u001b[0;34m[\u001b[0m\u001b[0;34m[\u001b[0m\u001b[0;34m'label'\u001b[0m\u001b[0;34m]\u001b[0m\u001b[0;34m]\u001b[0m\u001b[0;34m.\u001b[0m\u001b[0mrolling\u001b[0m\u001b[0;34m(\u001b[0m\u001b[0mwsize\u001b[0m\u001b[0;34m,\u001b[0m \u001b[0mint\u001b[0m\u001b[0;34m(\u001b[0m\u001b[0mwsize\u001b[0m\u001b[0;34m/\u001b[0m\u001b[0;36m2\u001b[0m\u001b[0;34m)\u001b[0m\u001b[0;34m)\u001b[0m\u001b[0;34m.\u001b[0m\u001b[0mapply\u001b[0m\u001b[0;34m(\u001b[0m\u001b[0;32mlambda\u001b[0m \u001b[0mts\u001b[0m\u001b[0;34m:\u001b[0m \u001b[0mmode\u001b[0m\u001b[0;34m(\u001b[0m\u001b[0mts\u001b[0m\u001b[0;34m)\u001b[0m\u001b[0;34m[\u001b[0m\u001b[0;36m0\u001b[0m\u001b[0;34m]\u001b[0m\u001b[0;34m)\u001b[0m\u001b[0;34m\u001b[0m\u001b[0;34m\u001b[0m\u001b[0m\n\u001b[0m\u001b[1;32m     23\u001b[0m     \u001b[0mfeats\u001b[0m \u001b[0;34m=\u001b[0m \u001b[0mfeats\u001b[0m\u001b[0;34m.\u001b[0m\u001b[0miloc\u001b[0m\u001b[0;34m[\u001b[0m\u001b[0mint\u001b[0m\u001b[0;34m(\u001b[0m\u001b[0mwsize\u001b[0m\u001b[0;34m*\u001b[0m\u001b[0moverlap\u001b[0m\u001b[0;34m)\u001b[0m\u001b[0;34m:\u001b[0m\u001b[0;34m:\u001b[0m\u001b[0mint\u001b[0m\u001b[0;34m(\u001b[0m\u001b[0mwsize\u001b[0m\u001b[0;34m*\u001b[0m\u001b[0moverlap\u001b[0m\u001b[0;34m)\u001b[0m\u001b[0;34m]\u001b[0m\u001b[0;34m\u001b[0m\u001b[0;34m\u001b[0m\u001b[0m\n\u001b[1;32m     24\u001b[0m \u001b[0;34m\u001b[0m\u001b[0m\n",
      "\u001b[0;32m~/Anaconda37/anaconda3/lib/python3.7/site-packages/pandas/core/window.py\u001b[0m in \u001b[0;36mapply\u001b[0;34m(self, func, raw, args, kwargs)\u001b[0m\n\u001b[1;32m   1578\u001b[0m     \u001b[0;32mdef\u001b[0m \u001b[0mapply\u001b[0m\u001b[0;34m(\u001b[0m\u001b[0mself\u001b[0m\u001b[0;34m,\u001b[0m \u001b[0mfunc\u001b[0m\u001b[0;34m,\u001b[0m \u001b[0mraw\u001b[0m\u001b[0;34m=\u001b[0m\u001b[0;32mNone\u001b[0m\u001b[0;34m,\u001b[0m \u001b[0margs\u001b[0m\u001b[0;34m=\u001b[0m\u001b[0;34m(\u001b[0m\u001b[0;34m)\u001b[0m\u001b[0;34m,\u001b[0m \u001b[0mkwargs\u001b[0m\u001b[0;34m=\u001b[0m\u001b[0;34m{\u001b[0m\u001b[0;34m}\u001b[0m\u001b[0;34m)\u001b[0m\u001b[0;34m:\u001b[0m\u001b[0;34m\u001b[0m\u001b[0;34m\u001b[0m\u001b[0m\n\u001b[1;32m   1579\u001b[0m         return super(Rolling, self).apply(\n\u001b[0;32m-> 1580\u001b[0;31m             func, raw=raw, args=args, kwargs=kwargs)\n\u001b[0m\u001b[1;32m   1581\u001b[0m \u001b[0;34m\u001b[0m\u001b[0m\n\u001b[1;32m   1582\u001b[0m     \u001b[0;34m@\u001b[0m\u001b[0mSubstitution\u001b[0m\u001b[0;34m(\u001b[0m\u001b[0mname\u001b[0m\u001b[0;34m=\u001b[0m\u001b[0;34m'rolling'\u001b[0m\u001b[0;34m)\u001b[0m\u001b[0;34m\u001b[0m\u001b[0;34m\u001b[0m\u001b[0m\n",
      "\u001b[0;32m~/Anaconda37/anaconda3/lib/python3.7/site-packages/pandas/core/window.py\u001b[0m in \u001b[0;36mapply\u001b[0;34m(self, func, raw, args, kwargs)\u001b[0m\n\u001b[1;32m   1001\u001b[0m \u001b[0;34m\u001b[0m\u001b[0m\n\u001b[1;32m   1002\u001b[0m         return self._apply(f, func, args=args, kwargs=kwargs,\n\u001b[0;32m-> 1003\u001b[0;31m                            center=False, raw=raw)\n\u001b[0m\u001b[1;32m   1004\u001b[0m \u001b[0;34m\u001b[0m\u001b[0m\n\u001b[1;32m   1005\u001b[0m     \u001b[0;32mdef\u001b[0m \u001b[0msum\u001b[0m\u001b[0;34m(\u001b[0m\u001b[0mself\u001b[0m\u001b[0;34m,\u001b[0m \u001b[0;34m*\u001b[0m\u001b[0margs\u001b[0m\u001b[0;34m,\u001b[0m \u001b[0;34m**\u001b[0m\u001b[0mkwargs\u001b[0m\u001b[0;34m)\u001b[0m\u001b[0;34m:\u001b[0m\u001b[0;34m\u001b[0m\u001b[0;34m\u001b[0m\u001b[0m\n",
      "\u001b[0;32m~/Anaconda37/anaconda3/lib/python3.7/site-packages/pandas/core/window.py\u001b[0m in \u001b[0;36m_apply\u001b[0;34m(self, func, name, window, center, check_minp, **kwargs)\u001b[0m\n\u001b[1;32m    879\u001b[0m             \u001b[0;32mwith\u001b[0m \u001b[0mnp\u001b[0m\u001b[0;34m.\u001b[0m\u001b[0merrstate\u001b[0m\u001b[0;34m(\u001b[0m\u001b[0mall\u001b[0m\u001b[0;34m=\u001b[0m\u001b[0;34m'ignore'\u001b[0m\u001b[0;34m)\u001b[0m\u001b[0;34m:\u001b[0m\u001b[0;34m\u001b[0m\u001b[0;34m\u001b[0m\u001b[0m\n\u001b[1;32m    880\u001b[0m                 \u001b[0;32mif\u001b[0m \u001b[0mvalues\u001b[0m\u001b[0;34m.\u001b[0m\u001b[0mndim\u001b[0m \u001b[0;34m>\u001b[0m \u001b[0;36m1\u001b[0m\u001b[0;34m:\u001b[0m\u001b[0;34m\u001b[0m\u001b[0;34m\u001b[0m\u001b[0m\n\u001b[0;32m--> 881\u001b[0;31m                     \u001b[0mresult\u001b[0m \u001b[0;34m=\u001b[0m \u001b[0mnp\u001b[0m\u001b[0;34m.\u001b[0m\u001b[0mapply_along_axis\u001b[0m\u001b[0;34m(\u001b[0m\u001b[0mcalc\u001b[0m\u001b[0;34m,\u001b[0m \u001b[0mself\u001b[0m\u001b[0;34m.\u001b[0m\u001b[0maxis\u001b[0m\u001b[0;34m,\u001b[0m \u001b[0mvalues\u001b[0m\u001b[0;34m)\u001b[0m\u001b[0;34m\u001b[0m\u001b[0;34m\u001b[0m\u001b[0m\n\u001b[0m\u001b[1;32m    882\u001b[0m                 \u001b[0;32melse\u001b[0m\u001b[0;34m:\u001b[0m\u001b[0;34m\u001b[0m\u001b[0;34m\u001b[0m\u001b[0m\n\u001b[1;32m    883\u001b[0m                     \u001b[0mresult\u001b[0m \u001b[0;34m=\u001b[0m \u001b[0mcalc\u001b[0m\u001b[0;34m(\u001b[0m\u001b[0mvalues\u001b[0m\u001b[0;34m)\u001b[0m\u001b[0;34m\u001b[0m\u001b[0;34m\u001b[0m\u001b[0m\n",
      "\u001b[0;32m~/Anaconda37/anaconda3/lib/python3.7/site-packages/numpy/lib/shape_base.py\u001b[0m in \u001b[0;36mapply_along_axis\u001b[0;34m(func1d, axis, arr, *args, **kwargs)\u001b[0m\n\u001b[1;32m    355\u001b[0m     \u001b[0;32mexcept\u001b[0m \u001b[0mStopIteration\u001b[0m\u001b[0;34m:\u001b[0m\u001b[0;34m\u001b[0m\u001b[0;34m\u001b[0m\u001b[0m\n\u001b[1;32m    356\u001b[0m         \u001b[0;32mraise\u001b[0m \u001b[0mValueError\u001b[0m\u001b[0;34m(\u001b[0m\u001b[0;34m'Cannot apply_along_axis when any iteration dimensions are 0'\u001b[0m\u001b[0;34m)\u001b[0m\u001b[0;34m\u001b[0m\u001b[0;34m\u001b[0m\u001b[0m\n\u001b[0;32m--> 357\u001b[0;31m     \u001b[0mres\u001b[0m \u001b[0;34m=\u001b[0m \u001b[0masanyarray\u001b[0m\u001b[0;34m(\u001b[0m\u001b[0mfunc1d\u001b[0m\u001b[0;34m(\u001b[0m\u001b[0minarr_view\u001b[0m\u001b[0;34m[\u001b[0m\u001b[0mind0\u001b[0m\u001b[0;34m]\u001b[0m\u001b[0;34m,\u001b[0m \u001b[0;34m*\u001b[0m\u001b[0margs\u001b[0m\u001b[0;34m,\u001b[0m \u001b[0;34m**\u001b[0m\u001b[0mkwargs\u001b[0m\u001b[0;34m)\u001b[0m\u001b[0;34m)\u001b[0m\u001b[0;34m\u001b[0m\u001b[0;34m\u001b[0m\u001b[0m\n\u001b[0m\u001b[1;32m    358\u001b[0m \u001b[0;34m\u001b[0m\u001b[0m\n\u001b[1;32m    359\u001b[0m     \u001b[0;31m# build a buffer for storing evaluations of func1d.\u001b[0m\u001b[0;34m\u001b[0m\u001b[0;34m\u001b[0m\u001b[0;34m\u001b[0m\u001b[0m\n",
      "\u001b[0;32m~/Anaconda37/anaconda3/lib/python3.7/site-packages/pandas/core/window.py\u001b[0m in \u001b[0;36mcalc\u001b[0;34m(x)\u001b[0m\n\u001b[1;32m    875\u001b[0m                 \u001b[0;32mdef\u001b[0m \u001b[0mcalc\u001b[0m\u001b[0;34m(\u001b[0m\u001b[0mx\u001b[0m\u001b[0;34m)\u001b[0m\u001b[0;34m:\u001b[0m\u001b[0;34m\u001b[0m\u001b[0;34m\u001b[0m\u001b[0m\n\u001b[1;32m    876\u001b[0m                     return func(x, window, min_periods=self.min_periods,\n\u001b[0;32m--> 877\u001b[0;31m                                 closed=self.closed)\n\u001b[0m\u001b[1;32m    878\u001b[0m \u001b[0;34m\u001b[0m\u001b[0m\n\u001b[1;32m    879\u001b[0m             \u001b[0;32mwith\u001b[0m \u001b[0mnp\u001b[0m\u001b[0;34m.\u001b[0m\u001b[0merrstate\u001b[0m\u001b[0;34m(\u001b[0m\u001b[0mall\u001b[0m\u001b[0;34m=\u001b[0m\u001b[0;34m'ignore'\u001b[0m\u001b[0;34m)\u001b[0m\u001b[0;34m:\u001b[0m\u001b[0;34m\u001b[0m\u001b[0;34m\u001b[0m\u001b[0m\n",
      "\u001b[0;32m~/Anaconda37/anaconda3/lib/python3.7/site-packages/pandas/core/window.py\u001b[0m in \u001b[0;36mf\u001b[0;34m(arg, window, min_periods, closed)\u001b[0m\n\u001b[1;32m    998\u001b[0m             return _window.roll_generic(\n\u001b[1;32m    999\u001b[0m                 \u001b[0marg\u001b[0m\u001b[0;34m,\u001b[0m \u001b[0mwindow\u001b[0m\u001b[0;34m,\u001b[0m \u001b[0mminp\u001b[0m\u001b[0;34m,\u001b[0m \u001b[0mindexi\u001b[0m\u001b[0;34m,\u001b[0m\u001b[0;34m\u001b[0m\u001b[0;34m\u001b[0m\u001b[0m\n\u001b[0;32m-> 1000\u001b[0;31m                 closed, offset, func, raw, args, kwargs)\n\u001b[0m\u001b[1;32m   1001\u001b[0m \u001b[0;34m\u001b[0m\u001b[0m\n\u001b[1;32m   1002\u001b[0m         return self._apply(f, func, args=args, kwargs=kwargs,\n",
      "\u001b[0;32mpandas/_libs/window.pyx\u001b[0m in \u001b[0;36mpandas._libs.window.roll_generic\u001b[0;34m()\u001b[0m\n",
      "\u001b[0;32m<ipython-input-7-5e6f3bae8914>\u001b[0m in \u001b[0;36m<lambda>\u001b[0;34m(ts)\u001b[0m\n\u001b[1;32m     20\u001b[0m     \u001b[0mfeats\u001b[0m \u001b[0;34m=\u001b[0m \u001b[0mfeats\u001b[0m\u001b[0;34m.\u001b[0m\u001b[0mjoin\u001b[0m\u001b[0;34m(\u001b[0m\u001b[0mpairs_cor_\u001b[0m\u001b[0;34m)\u001b[0m\u001b[0;34m\u001b[0m\u001b[0;34m\u001b[0m\u001b[0m\n\u001b[1;32m     21\u001b[0m \u001b[0;34m\u001b[0m\u001b[0m\n\u001b[0;32m---> 22\u001b[0;31m     \u001b[0my\u001b[0m \u001b[0;34m=\u001b[0m \u001b[0mdata\u001b[0m\u001b[0;34m[\u001b[0m\u001b[0;34m[\u001b[0m\u001b[0;34m'label'\u001b[0m\u001b[0;34m]\u001b[0m\u001b[0;34m]\u001b[0m\u001b[0;34m.\u001b[0m\u001b[0mrolling\u001b[0m\u001b[0;34m(\u001b[0m\u001b[0mwsize\u001b[0m\u001b[0;34m,\u001b[0m \u001b[0mint\u001b[0m\u001b[0;34m(\u001b[0m\u001b[0mwsize\u001b[0m\u001b[0;34m/\u001b[0m\u001b[0;36m2\u001b[0m\u001b[0;34m)\u001b[0m\u001b[0;34m)\u001b[0m\u001b[0;34m.\u001b[0m\u001b[0mapply\u001b[0m\u001b[0;34m(\u001b[0m\u001b[0;32mlambda\u001b[0m \u001b[0mts\u001b[0m\u001b[0;34m:\u001b[0m \u001b[0mmode\u001b[0m\u001b[0;34m(\u001b[0m\u001b[0mts\u001b[0m\u001b[0;34m)\u001b[0m\u001b[0;34m[\u001b[0m\u001b[0;36m0\u001b[0m\u001b[0;34m]\u001b[0m\u001b[0;34m)\u001b[0m\u001b[0;34m\u001b[0m\u001b[0;34m\u001b[0m\u001b[0m\n\u001b[0m\u001b[1;32m     23\u001b[0m     \u001b[0mfeats\u001b[0m \u001b[0;34m=\u001b[0m \u001b[0mfeats\u001b[0m\u001b[0;34m.\u001b[0m\u001b[0miloc\u001b[0m\u001b[0;34m[\u001b[0m\u001b[0mint\u001b[0m\u001b[0;34m(\u001b[0m\u001b[0mwsize\u001b[0m\u001b[0;34m*\u001b[0m\u001b[0moverlap\u001b[0m\u001b[0;34m)\u001b[0m\u001b[0;34m:\u001b[0m\u001b[0;34m:\u001b[0m\u001b[0mint\u001b[0m\u001b[0;34m(\u001b[0m\u001b[0mwsize\u001b[0m\u001b[0;34m*\u001b[0m\u001b[0moverlap\u001b[0m\u001b[0;34m)\u001b[0m\u001b[0;34m]\u001b[0m\u001b[0;34m\u001b[0m\u001b[0;34m\u001b[0m\u001b[0m\n\u001b[1;32m     24\u001b[0m \u001b[0;34m\u001b[0m\u001b[0m\n",
      "\u001b[0;32m~/Anaconda37/anaconda3/lib/python3.7/site-packages/scipy/stats/stats.py\u001b[0m in \u001b[0;36mmode\u001b[0;34m(a, axis, nan_policy)\u001b[0m\n\u001b[1;32m    444\u001b[0m     \u001b[0;32mfor\u001b[0m \u001b[0mscore\u001b[0m \u001b[0;32min\u001b[0m \u001b[0mscores\u001b[0m\u001b[0;34m:\u001b[0m\u001b[0;34m\u001b[0m\u001b[0;34m\u001b[0m\u001b[0m\n\u001b[1;32m    445\u001b[0m         \u001b[0mtemplate\u001b[0m \u001b[0;34m=\u001b[0m \u001b[0;34m(\u001b[0m\u001b[0ma\u001b[0m \u001b[0;34m==\u001b[0m \u001b[0mscore\u001b[0m\u001b[0;34m)\u001b[0m\u001b[0;34m\u001b[0m\u001b[0;34m\u001b[0m\u001b[0m\n\u001b[0;32m--> 446\u001b[0;31m         \u001b[0mcounts\u001b[0m \u001b[0;34m=\u001b[0m \u001b[0mnp\u001b[0m\u001b[0;34m.\u001b[0m\u001b[0mexpand_dims\u001b[0m\u001b[0;34m(\u001b[0m\u001b[0mnp\u001b[0m\u001b[0;34m.\u001b[0m\u001b[0msum\u001b[0m\u001b[0;34m(\u001b[0m\u001b[0mtemplate\u001b[0m\u001b[0;34m,\u001b[0m \u001b[0maxis\u001b[0m\u001b[0;34m)\u001b[0m\u001b[0;34m,\u001b[0m \u001b[0maxis\u001b[0m\u001b[0;34m)\u001b[0m\u001b[0;34m\u001b[0m\u001b[0;34m\u001b[0m\u001b[0m\n\u001b[0m\u001b[1;32m    447\u001b[0m         \u001b[0mmostfrequent\u001b[0m \u001b[0;34m=\u001b[0m \u001b[0mnp\u001b[0m\u001b[0;34m.\u001b[0m\u001b[0mwhere\u001b[0m\u001b[0;34m(\u001b[0m\u001b[0mcounts\u001b[0m \u001b[0;34m>\u001b[0m \u001b[0moldcounts\u001b[0m\u001b[0;34m,\u001b[0m \u001b[0mscore\u001b[0m\u001b[0;34m,\u001b[0m \u001b[0moldmostfreq\u001b[0m\u001b[0;34m)\u001b[0m\u001b[0;34m\u001b[0m\u001b[0;34m\u001b[0m\u001b[0m\n\u001b[1;32m    448\u001b[0m         \u001b[0moldcounts\u001b[0m \u001b[0;34m=\u001b[0m \u001b[0mnp\u001b[0m\u001b[0;34m.\u001b[0m\u001b[0mmaximum\u001b[0m\u001b[0;34m(\u001b[0m\u001b[0mcounts\u001b[0m\u001b[0;34m,\u001b[0m \u001b[0moldcounts\u001b[0m\u001b[0;34m)\u001b[0m\u001b[0;34m\u001b[0m\u001b[0;34m\u001b[0m\u001b[0m\n",
      "\u001b[0;32m~/Anaconda37/anaconda3/lib/python3.7/site-packages/numpy/lib/shape_base.py\u001b[0m in \u001b[0;36mexpand_dims\u001b[0;34m(a, axis)\u001b[0m\n\u001b[1;32m    539\u001b[0m     \u001b[0ma\u001b[0m \u001b[0;34m=\u001b[0m \u001b[0masarray\u001b[0m\u001b[0;34m(\u001b[0m\u001b[0ma\u001b[0m\u001b[0;34m)\u001b[0m\u001b[0;34m\u001b[0m\u001b[0;34m\u001b[0m\u001b[0m\n\u001b[1;32m    540\u001b[0m     \u001b[0mshape\u001b[0m \u001b[0;34m=\u001b[0m \u001b[0ma\u001b[0m\u001b[0;34m.\u001b[0m\u001b[0mshape\u001b[0m\u001b[0;34m\u001b[0m\u001b[0;34m\u001b[0m\u001b[0m\n\u001b[0;32m--> 541\u001b[0;31m     \u001b[0;32mif\u001b[0m \u001b[0maxis\u001b[0m \u001b[0;34m>\u001b[0m \u001b[0ma\u001b[0m\u001b[0;34m.\u001b[0m\u001b[0mndim\u001b[0m \u001b[0;32mor\u001b[0m \u001b[0maxis\u001b[0m \u001b[0;34m<\u001b[0m \u001b[0;34m-\u001b[0m\u001b[0ma\u001b[0m\u001b[0;34m.\u001b[0m\u001b[0mndim\u001b[0m \u001b[0;34m-\u001b[0m \u001b[0;36m1\u001b[0m\u001b[0;34m:\u001b[0m\u001b[0;34m\u001b[0m\u001b[0;34m\u001b[0m\u001b[0m\n\u001b[0m\u001b[1;32m    542\u001b[0m         \u001b[0;31m# 2017-05-17, 1.13.0\u001b[0m\u001b[0;34m\u001b[0m\u001b[0;34m\u001b[0m\u001b[0;34m\u001b[0m\u001b[0m\n\u001b[1;32m    543\u001b[0m         warnings.warn(\"Both axis > a.ndim and axis < -a.ndim - 1 are \"\n",
      "\u001b[0;31mKeyboardInterrupt\u001b[0m: "
     ]
    }
   ],
   "source": [
    "data2 = read_data('all') \n",
    "feats, y = get_advanced_features(data2, 2)\n",
    "X_train, X_test, y_train, y_test = train_test_split(feats, y, test_size=.25,\n",
    "                                                    random_state=0, stratify=y)\n",
    "best_model.fit(X_train, y_train)\n",
    "eval_model(best_model, X_test, y_test,'2sec - overlapping')\n"
   ]
  },
  {
   "cell_type": "code",
   "execution_count": null,
   "metadata": {},
   "outputs": [],
   "source": []
  }
 ],
 "metadata": {
  "kernelspec": {
   "display_name": "Python 3",
   "language": "python",
   "name": "python3"
  },
  "language_info": {
   "codemirror_mode": {
    "name": "ipython",
    "version": 3
   },
   "file_extension": ".py",
   "mimetype": "text/x-python",
   "name": "python",
   "nbconvert_exporter": "python",
   "pygments_lexer": "ipython3",
   "version": "3.7.1"
  }
 },
 "nbformat": 4,
 "nbformat_minor": 1
}
