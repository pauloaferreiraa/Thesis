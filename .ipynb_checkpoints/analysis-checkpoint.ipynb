{
 "cells": [
  {
   "cell_type": "markdown",
   "metadata": {},
   "source": [
    "### Human activity recognition.\n",
    "The dataset: <http://archive.ics.uci.edu/ml/datasets/Activity+Recognition+from+Single+Chest-Mounted+Accelerometer#>"
   ]
  },
  {
   "cell_type": "code",
   "execution_count": 2,
   "metadata": {},
   "outputs": [],
   "source": [
    "%matplotlib inline\n",
    "import pandas as pd\n",
    "from matplotlib import pyplot as plt\n",
    "import numpy as np\n",
    "from datetime import datetime, timedelta\n",
    "import warnings\n",
    "import swifter\n",
    "\n",
    "warnings.filterwarnings('ignore')\n",
    "\n",
    "# the function assumes the data is in Activity_Recognition folder\n",
    "def read_data(fname='all'):\n",
    "    freq = '19230U'   # ~19ms, using sampling frequency is 52samples/sec\n",
    "    dt = datetime.now()\n",
    "    data = pd.DataFrame()\n",
    "    \n",
    "    if fname == 'all':    # read all files\n",
    "        data_files = []\n",
    "        \n",
    "        for f_id in range(1,16):\n",
    "            data = pd.read_csv('data/%d.csv' %f_id, \n",
    "                               names=['id', 'x', 'y', 'z', 'label'], \n",
    "                               header=None, index_col=0)\n",
    "            data.index = pd.date_range(start=dt, periods=data.shape[0], freq=freq)\n",
    "            dt += timedelta(hours=3)\n",
    "            data_files.append(data)\n",
    "            \n",
    "        data = pd.concat(data_files)\n",
    "    \n",
    "    else:    # read one file only\n",
    "        data = pd.read_csv('data/%s.csv' %fname, \n",
    "                   names=['id', 'x', 'y', 'z', 'label'], \n",
    "                   header=None, index_col=0)\n",
    "\n",
    "        data.index = pd.date_range(start='00:00:00', periods=data.shape[0], freq=freq)\n",
    "        \n",
    "    # Filter and clean data\n",
    "    data = data.dropna()\n",
    "    data = data[data['label'] != 0]   # some rows are misclassified as 0\n",
    "        \n",
    "    return data"
   ]
  },
  {
   "cell_type": "markdown",
   "metadata": {},
   "source": [
    "### Feature extraction.\n",
    "Segment the data using sliding window of size 10s, and from each window extract the common features (mean, standard deviation, variance), and some other features used specifically for Human Activity Recognition like RMS (Root Mean Square), magnitude of acceleration, and pairwise correlation between x, y, z."
   ]
  },
  {
   "cell_type": "code",
   "execution_count": 3,
   "metadata": {},
   "outputs": [],
   "source": [
    "from scipy.stats import mode \n",
    "\n",
    "\n",
    "def rms(ts): return np.sqrt(np.mean(ts**2))\n",
    "\n",
    "def corr(df): \n",
    "    cor = df.corr()\n",
    "    return pd.DataFrame({'xy':[cor['x']['y']], 'xz':[cor['x']['z']], 'yz':[cor['y']['z']]})\n",
    "\n",
    "def get_features(data, wsize='10s', f_list=['mean', 'std', 'var', rms]):\n",
    "    # f_list is a list of features names or methods to apply in resampling\n",
    "    \n",
    "    # features that invlove one dimension only.\n",
    "    fname = '_' + (f_list[0] if isinstance(f_list[0], str) else f_list[0].__name__)   \n",
    "    feats = data[['x','y','z']].resample(wsize, how=f_list[0]).add_suffix(fname)\n",
    "    \n",
    "    for i, f in enumerate(f_list[1:]):\n",
    "        fname = '_' + (f if isinstance(f, str) else f.__name__)\n",
    "        feat = data[['x','y','z']].resample(wsize, how=f).add_suffix(fname)\n",
    "        feats = feats.join(feat)   \n",
    "\n",
    "    # features that involve more than one dimension.                                               \n",
    "    mean_mag = (data**2).sum(axis=1).resample(wsize, how=lambda ts: np.sqrt(ts).mean())\n",
    "    mean_mag.name = 'mean_mag'\n",
    "    feats = feats.join(mean_mag) \n",
    "\n",
    "    pairs_cor = data.groupby(pd.TimeGrouper(wsize)).apply(corr).reset_index(1, drop=True)\n",
    "    feats = feats.join(pairs_cor) \n",
    "    \n",
    "    y = data['label'].resample(wsize, how=lambda ts: mode(ts)[0] if ts.shape[0] > 0 else np.nan)   \n",
    "\n",
    "    # drop any nan values\n",
    "    mask = np.any(np.isnan(feats), axis=1)\n",
    "    feats, y = feats[~mask], y[~mask]\n",
    "    mask = np.isnan(y)\n",
    "    feats, y = feats[~mask], y[~mask]\n",
    "    \n",
    "    return (feats, y)\n"
   ]
  },
  {
   "cell_type": "markdown",
   "metadata": {},
   "source": [
    "### Choosing and tuning the model.\n",
    "\n",
    "Splitting data (after feature extraction) into train and test subsets. Using grid search on the training set each model is trained and tuned, then the models are compared according to their performance on the test set using accuracy and AUC (Area Under ROC Curve). The best accuracy result of .899 for SVM and RandomForest, and best AUC result of .99 for RandomForest.\n",
    "\n",
    "    Activity codes in confusion matrix:\n",
    "    1: Working at Computer\n",
    "    2: Standing Up, Walking and Going up\\down stairs\n",
    "    3: Standing\n",
    "    4: Walking\n",
    "    5: Going Up\\Down Stairs\n",
    "    6: Walking and Talking with Someone\n",
    "    7: Talking while Standing\n",
    "    "
   ]
  },
  {
   "cell_type": "code",
   "execution_count": 4,
   "metadata": {},
   "outputs": [
    {
     "name": "stdout",
     "output_type": "stream",
     "text": [
      "Support Vector Machine\n"
     ]
    },
    {
     "name": "stderr",
     "output_type": "stream",
     "text": [
      "/home/paulo/.local/lib/python2.7/site-packages/sklearn/model_selection/_search.py:841: DeprecationWarning: The default of the `iid` parameter will change from True to False in version 0.22 and will be removed in 0.24. This will change numeric results when test-set sizes are unequal.\n",
      "  DeprecationWarning)\n"
     ]
    },
    {
     "name": "stdout",
     "output_type": "stream",
     "text": [
      "Accuracy score on the test set: 0.899\n",
      "Confusion Matrix...\n",
      "    1  2  3   4  5  6   7\n",
      "1  15  0  0   0  0  1   0\n",
      "2   0  0  1   0  0  0   0\n",
      "3   0  0  1   0  0  0   4\n",
      "4   0  0  0  12  0  0   1\n",
      "5   0  0  0   0  2  0   0\n",
      "6   0  0  0   1  0  0   0\n",
      "7   0  0  0   0  0  0  41\n",
      "Random Forest\n"
     ]
    },
    {
     "name": "stderr",
     "output_type": "stream",
     "text": [
      "/home/paulo/.local/lib/python2.7/site-packages/sklearn/model_selection/_search.py:841: DeprecationWarning: The default of the `iid` parameter will change from True to False in version 0.22 and will be removed in 0.24. This will change numeric results when test-set sizes are unequal.\n",
      "  DeprecationWarning)\n"
     ]
    },
    {
     "name": "stdout",
     "output_type": "stream",
     "text": [
      "Accuracy score on the test set: 0.899\n",
      "Confusion Matrix...\n",
      "    1  2  3   4  5  6   7\n",
      "1  15  0  0   0  1  0   0\n",
      "2   0  0  0   0  0  0   1\n",
      "3   0  0  0   0  0  0   5\n",
      "4   0  0  0  13  0  0   0\n",
      "5   0  0  0   0  2  0   0\n",
      "6   0  0  0   1  0  0   0\n",
      "7   0  0  0   0  0  0  41\n",
      "Gradient Boosting\n"
     ]
    },
    {
     "name": "stderr",
     "output_type": "stream",
     "text": [
      "/home/paulo/.local/lib/python2.7/site-packages/sklearn/model_selection/_search.py:841: DeprecationWarning: The default of the `iid` parameter will change from True to False in version 0.22 and will be removed in 0.24. This will change numeric results when test-set sizes are unequal.\n",
      "  DeprecationWarning)\n"
     ]
    },
    {
     "name": "stdout",
     "output_type": "stream",
     "text": [
      "Accuracy score on the test set: 0.848\n",
      "Confusion Matrix...\n",
      "    1  2  3   4  5  6   7\n",
      "1  15  0  0   0  1  0   0\n",
      "2   1  0  0   0  0  0   0\n",
      "3   0  0  0   0  0  0   5\n",
      "4   0  0  0  12  0  0   1\n",
      "5   0  0  0   0  2  0   0\n",
      "6   0  0  0   1  0  0   0\n",
      "7   0  0  3   0  0  0  38\n",
      "Ada Boosting\n"
     ]
    },
    {
     "name": "stderr",
     "output_type": "stream",
     "text": [
      "/home/paulo/.local/lib/python2.7/site-packages/sklearn/model_selection/_search.py:841: DeprecationWarning: The default of the `iid` parameter will change from True to False in version 0.22 and will be removed in 0.24. This will change numeric results when test-set sizes are unequal.\n",
      "  DeprecationWarning)\n"
     ]
    },
    {
     "name": "stdout",
     "output_type": "stream",
     "text": [
      "Accuracy score on the test set: 0.873\n",
      "Confusion Matrix...\n",
      "    1  2  3   4  5  6   7\n",
      "1  15  0  0   1  0  0   0\n",
      "2   0  0  0   0  0  0   1\n",
      "3   0  0  0   0  0  0   5\n",
      "4   0  0  0  13  0  0   0\n",
      "5   0  0  0   2  0  0   0\n",
      "6   0  0  0   1  0  0   0\n",
      "7   0  0  0   0  0  0  41\n",
      "K-Nearest Neighbor\n",
      "Accuracy score on the test set: 0.861\n",
      "Confusion Matrix...\n",
      "    1  2  3   4  5  6   7\n",
      "1  14  0  0   1  0  0   1\n",
      "2   0  0  0   0  0  0   1\n",
      "3   0  0  1   0  0  0   4\n",
      "4   0  0  0  13  0  0   0\n",
      "5   0  0  0   2  0  0   0\n",
      "6   0  0  0   1  0  0   0\n",
      "7   1  0  0   0  0  0  40\n"
     ]
    },
    {
     "name": "stderr",
     "output_type": "stream",
     "text": [
      "/home/paulo/.local/lib/python2.7/site-packages/sklearn/model_selection/_search.py:841: DeprecationWarning: The default of the `iid` parameter will change from True to False in version 0.22 and will be removed in 0.24. This will change numeric results when test-set sizes are unequal.\n",
      "  DeprecationWarning)\n"
     ]
    },
    {
     "data": {
      "text/plain": [
       "(0.9464562303049725, 0.8607594936708861)"
      ]
     },
     "execution_count": 4,
     "metadata": {},
     "output_type": "execute_result"
    },
    {
     "data": {
      "image/png": "[encoded data removed]",
      "text/plain": [
       "<Figure size 432x288 with 1 Axes>"
      ]
     },
     "metadata": {
      "needs_background": "light"
     },
     "output_type": "display_data"
    }
   ],
   "source": [
    "from sklearn.model_selection import train_test_split\n",
    "from sklearn.preprocessing import label_binarize\n",
    "from sklearn.model_selection import GridSearchCV\n",
    "from sklearn.metrics import confusion_matrix, roc_curve, auc, accuracy_score\n",
    "from sklearn.svm import SVC\n",
    "from sklearn.tree import DecisionTreeClassifier\n",
    "from sklearn.ensemble import RandomForestClassifier, GradientBoostingClassifier, AdaBoostClassifier, VotingClassifier\n",
    "from sklearn.neighbors import KNeighborsClassifier\n",
    "\n",
    "def train_model(X, y, est, grid):\n",
    "    gs = GridSearchCV(estimator=est, param_grid=grid, scoring='accuracy', cv=5, n_jobs=-1)\n",
    "    gs = gs.fit(X, y)\n",
    "    \n",
    "    return (gs.best_estimator_, gs.best_params_)\n",
    "\n",
    "\n",
    "def eval_model(mod, X_test, y_test, mod_name, plt_roc=True):\n",
    "    y_prob = mod.predict_proba(X_test)\n",
    "    y_test_bin = label_binarize(y_test, classes=[1, 2, 3, 4, 5, 6, 7])\n",
    "    fpr, tpr, _ = roc_curve(y_test_bin.ravel(), y_prob.ravel())\n",
    "    roc_auc = auc(fpr, tpr)\n",
    "    \n",
    "    if plt_roc:\n",
    "        plt.plot(fpr, tpr, lw=2,\n",
    "                 label='average ROC curve (auc=%0.2f), model: %s' % (roc_auc,mod_name))\n",
    "        plt.legend(loc=\"lower right\")\n",
    "    \n",
    "    y_pred = mod.predict(X_test)\n",
    "    score = accuracy_score(y_true=y_test, y_pred=y_pred)\n",
    "    print 'Accuracy score on the test set: %.3f' %score\n",
    "    \n",
    "    confmat = confusion_matrix(y_true=y_test, y_pred=y_pred)\n",
    "    confmat = pd.DataFrame(confmat, index=list(range(1,8)), columns=list(range(1,8)))\n",
    "    print 'Confusion Matrix...'\n",
    "    print confmat\n",
    "    \n",
    "    return (roc_auc, score)\n",
    "\n",
    "\n",
    "data = read_data('1')\n",
    "param_range = [0.0001, 0.001, 0.01, 0.1]\n",
    "\n",
    "feats, y = get_features(data, wsize='10s')\n",
    "# split data into train and test sets\n",
    "X_train, X_test, y_train, y_test = train_test_split(feats, y, test_size=.25, random_state=0, stratify=y)\n",
    "\n",
    "\n",
    "print 'Support Vector Machine'\n",
    "model, params = train_model(X_train, y_train, \n",
    "                    est=SVC(probability=True),\n",
    "                    grid={'C': param_range, 'gamma': param_range, 'kernel': ['linear']})\n",
    "eval_model(model, X_test, y_test, 'SVC')\n",
    "              \n",
    "\n",
    "\n",
    "print 'Random Forest'\n",
    "model, params = train_model(X_train, y_train, \n",
    "                    est=RandomForestClassifier(n_jobs=-1, criterion='entropy'),\n",
    "                    grid={'n_estimators':[50, 100, 200]})\n",
    "eval_model(model, X_test, y_test,'Forest')\n",
    "\n",
    "print 'Gradient Boosting'\n",
    "model, params = train_model(X_train, y_train, \n",
    "                    est=GradientBoostingClassifier(learning_rate=1.0, random_state=0),\n",
    "                    grid={'n_estimators':[50, 200, 400], 'max_depth':[1,2,3],\n",
    "                          'learning_rate':[.1,.05,.01,.005]})\n",
    "eval_model(model, X_test, y_test,'GBC')\n",
    "\n",
    "print 'Ada Boosting'\n",
    "model, params = train_model(X_train, y_train, \n",
    "                    est=AdaBoostClassifier(),\n",
    "                    grid={'n_estimators':[50, 200, 400], 'learning_rate':[.1,.05,.01,.005]})\n",
    "eval_model(model, X_test, y_test,'ABC')\n",
    "\n",
    "print 'K-Nearest Neighbor'\n",
    "model, params = train_model(X_train, y_train, \n",
    "                    est=KNeighborsClassifier(),\n",
    "                    grid={'n_neighbors':[5, 8, 10], 'weights':['uniform', 'distance']})\n",
    "eval_model(model, X_test, y_test,'KNN')\n",
    "\n",
    "\n"
   ]
  },
  {
   "cell_type": "markdown",
   "metadata": {},
   "source": [
    "### Trying different windows sizes.\n",
    "\n",
    "The choice of a window size of 10sec was quite arbitrary. In the research papers on HAR different window sizes were used that range from 1 sec to 20 sec.\n",
    "Also two types of windows are used in the field, disjoint and overlapping. get_features2 defines the same features defined before but using rolling window and taking only values at overlapping of 50%.\n",
    "AUC scores are comparable, and the best accuracy score is .92 for overlapping-window of size 2sec."
   ]
  },
  {
   "cell_type": "code",
   "execution_count": 5,
   "metadata": {},
   "outputs": [
    {
     "name": "stdout",
     "output_type": "stream",
     "text": [
      "Window Size: 2 sec\n",
      "Disjoint window:\n",
      "Accuracy score on the test set: 0.910\n",
      "Confusion Matrix...\n",
      "    1  2   3   4  5  6    7\n",
      "1  78  0   0   1  0  0    2\n",
      "2   0  0   0   1  0  0    1\n",
      "3   0  0  11   2  0  0   14\n",
      "4   0  0   1  60  1  0    2\n",
      "5   0  0   0   1  6  0    1\n",
      "6   0  0   0   6  0  1    0\n",
      "7   1  0   1   0  0  0  200\n",
      "AUC score: 0.990\n",
      "Overlapping window:\n",
      "super() argument 1 must be type, not classobj\n",
      "Window Size: 3 sec\n",
      "Disjoint window:\n",
      "Accuracy score on the test set: 0.897\n",
      "Confusion Matrix...\n",
      "    1  2  3   4  5  6    7\n",
      "1  54  0  0   0  0  0    0\n",
      "2   1  0  0   0  0  0    0\n",
      "3   0  0  2   1  0  0   15\n",
      "4   0  0  0  40  1  2    0\n",
      "5   0  0  0   0  3  0    2\n",
      "6   0  0  1   3  1  0    0\n",
      "7   0  0  0   0  0  0  135\n",
      "AUC score: 0.989\n",
      "Overlapping window:\n",
      "super() argument 1 must be type, not classobj\n",
      "Window Size: 5 sec\n",
      "Disjoint window:\n",
      "Accuracy score on the test set: 0.898\n",
      "Confusion Matrix...\n",
      "    1  2  3   4  5  6   7\n",
      "1  31  0  0   0  0  0   1\n",
      "2   0  0  0   1  0  0   0\n",
      "3   0  0  1   0  0  0  10\n",
      "4   0  0  0  26  0  0   0\n",
      "5   0  0  0   1  2  0   0\n",
      "6   0  0  0   2  1  0   0\n",
      "7   0  0  0   0  0  0  81\n",
      "AUC score: 0.985\n",
      "Overlapping window:\n",
      "super() argument 1 must be type, not classobj\n",
      "Window Size: 7 sec\n",
      "Disjoint window:\n",
      "Accuracy score on the test set: 0.884\n",
      "Shape of passed values is (6, 6), indices imply (7, 7)\n",
      "Window Size: 10 sec\n",
      "Disjoint window:\n",
      "Accuracy score on the test set: 0.899\n",
      "Confusion Matrix...\n",
      "    1  2  3   4  5  6   7\n",
      "1  15  0  0   0  1  0   0\n",
      "2   0  0  0   0  0  0   1\n",
      "3   0  0  0   0  0  0   5\n",
      "4   0  0  0  13  0  0   0\n",
      "5   0  0  0   0  2  0   0\n",
      "6   0  0  0   1  0  0   0\n",
      "7   0  0  0   0  0  0  41\n",
      "AUC score: 0.983\n",
      "Overlapping window:\n",
      "super() argument 1 must be type, not classobj\n",
      "Window Size: 13 sec\n",
      "Disjoint window:\n",
      "The least populated class in y has only 1 member, which is too few. The minimum number of groups for any class cannot be less than 2.\n",
      "Window Size: 15 sec\n",
      "Disjoint window:\n",
      "The least populated class in y has only 1 member, which is too few. The minimum number of groups for any class cannot be less than 2.\n",
      "Window Size: 20 sec\n",
      "Disjoint window:\n",
      "The least populated class in y has only 1 member, which is too few. The minimum number of groups for any class cannot be less than 2.\n"
     ]
    }
   ],
   "source": [
    "def get_features2(data, wsize_sec, overlap=.5):\n",
    "    wsize = 52 * wsize_sec   # sampling frequency/sec * length of window in seconds\n",
    "    #feats = pd.rolling_mean(data[['x','y','z']], wsize, wsize/2).add_suffix('_mean')\n",
    "    feats = data[['x','y','z']].rolling(wsize,wsize/2).mean().add_suffix('_mean')\n",
    "    \n",
    "    #feat = pd.rolling_std(data[['x','y','z']], wsize, wsize/2).add_suffix('_std')\n",
    "    feat = data[['x','y','z']].rolling(wsize, wsize/2).std().add_suffix('_std')\n",
    "    feats = feats.join(feat)\n",
    "    \n",
    "    #feat = pd.rolling_var(data[['x','y','z']], wsize, wsize/2).add_suffix('_var')\n",
    "    feat = data[['x','y','z']].rolling(wsize, wsize/2).var().add_suffix('_var')\n",
    "    feats = feats.join(feat)\n",
    "    \n",
    "    #feat = pd.rolling_apply(data[['x','y','z']], wsize, rms, wsize/2).add_suffix('_rms')\n",
    "    feat = data[['x','y','z']].swifter.rolling(wsize, wsize/2).apply(rms).add_suffix('_rms')\n",
    "    feats = feats.join(feat)\n",
    "        \n",
    "    #mean_mag = pd.rolling_apply((data**2).sum(axis=1), wsize, lambda ts: np.sqrt(ts).mean(), wsize/2)\n",
    "    mean_mag = (data**2).sum(axis=1).rolling(wsize, wsize/2).aplly(lambda ts: np.sqrt(ts).mean())\n",
    "    \n",
    "    mean_mag.name = 'mean_mag'\n",
    "    feats = feats.join(mean_mag) \n",
    " \n",
    "\n",
    "    xy_cor = pd.rolling_corr(data['x'], data['y'], wsize, wsize/2)\n",
    "    xy_cor.name = 'xy'\n",
    "    xz_cor = pd.rolling_corr(data['x'], data['z'], wsize, wsize/2)\n",
    "    xz_cor.name = 'xz'\n",
    "    yz_cor = pd.rolling_corr(data['y'], data['z'], wsize, wsize/2)\n",
    "    yz_cor.name = 'yz'\n",
    "    feats = feats.join(xy_cor).join(xz_cor).join(yz_cor)\n",
    "    \n",
    "    y = pd.rolling_apply(data['label'], wsize, lambda ts: mode(ts)[0], wsize/2)   \n",
    "    # Take the values at the needed intersection point\n",
    "    feats = feats.iloc[wsize*overlap::wsize*overlap] \n",
    "    y = y.iloc[wsize*overlap::wsize*overlap]\n",
    "    \n",
    "    return feats, y\n",
    "\n",
    "\n",
    "win_sizes = ['2','3', '5', '7', '10', '13', '15', '20']\n",
    "best_model = RandomForestClassifier(criterion='entropy', n_jobs=-1, n_estimators=50)\n",
    "\n",
    "for wsize in win_sizes:\n",
    "    print 'Window Size: %s sec' % wsize\n",
    "    try:\n",
    "        # disjoint window\n",
    "        print 'Disjoint window:'\n",
    "        feats, y = get_features(data, wsize=wsize + 's')\n",
    "        X_train, X_test, y_train, y_test = train_test_split(feats, y, test_size=.25,\n",
    "                                                            random_state=0, stratify=y)\n",
    "        best_model.fit(X_train, y_train)\n",
    "        roc_auc, acc = eval_model(best_model, X_test, y_test,'%ss - disjoint' %wsize, plt_roc=False)\n",
    "        print 'AUC score: %.3f' % roc_auc\n",
    "\n",
    "\n",
    "        # overlapping window\n",
    "        print 'Overlapping window:'\n",
    "        feats, y = get_features2(data, int(wsize))\n",
    "        X_train, X_test, y_train, y_test = train_test_split(feats, y, test_size=.25,\n",
    "                                                            random_state=0, stratify=y)\n",
    "        best_model.fit(X_train, y_train)\n",
    "        roc_auc, acc = eval_model(best_model, X_test, y_test,'%ss - overlapping' %wsize, plt_roc=False)\n",
    "        print 'AUC score: %.3f' % roc_auc\n",
    "    except Exception as e:\n",
    "        print e\n",
    "\n",
    "    "
   ]
  },
  {
   "cell_type": "markdown",
   "metadata": {},
   "source": [
    "### Testing model on the full dataset."
   ]
  },
  {
   "cell_type": "code",
   "execution_count": 6,
   "metadata": {},
   "outputs": [
    {
     "ename": "TypeError",
     "evalue": "super() argument 1 must be type, not classobj",
     "output_type": "error",
     "traceback": [
      "\u001b[0;31m---------------------------------------------------------------------------\u001b[0m",
      "\u001b[0;31mTypeError\u001b[0m                                 Traceback (most recent call last)",
      "\u001b[0;32m<ipython-input-6-95eebeaeb992>\u001b[0m in \u001b[0;36m<module>\u001b[0;34m()\u001b[0m\n\u001b[1;32m      1\u001b[0m \u001b[0mdata2\u001b[0m \u001b[0;34m=\u001b[0m \u001b[0mread_data\u001b[0m\u001b[0;34m(\u001b[0m\u001b[0;34m'all'\u001b[0m\u001b[0;34m)\u001b[0m\u001b[0;34m\u001b[0m\u001b[0m\n\u001b[0;32m----> 2\u001b[0;31m \u001b[0mfeats\u001b[0m\u001b[0;34m,\u001b[0m \u001b[0my\u001b[0m \u001b[0;34m=\u001b[0m \u001b[0mget_features2\u001b[0m\u001b[0;34m(\u001b[0m\u001b[0mdata2\u001b[0m\u001b[0;34m,\u001b[0m \u001b[0;36m2\u001b[0m\u001b[0;34m)\u001b[0m\u001b[0;34m\u001b[0m\u001b[0m\n\u001b[0m\u001b[1;32m      3\u001b[0m X_train, X_test, y_train, y_test = train_test_split(feats, y, test_size=.25,\n\u001b[1;32m      4\u001b[0m                                                     random_state=0, stratify=y)\n\u001b[1;32m      5\u001b[0m \u001b[0mbest_model\u001b[0m\u001b[0;34m.\u001b[0m\u001b[0mfit\u001b[0m\u001b[0;34m(\u001b[0m\u001b[0mX_train\u001b[0m\u001b[0;34m,\u001b[0m \u001b[0my_train\u001b[0m\u001b[0;34m)\u001b[0m\u001b[0;34m\u001b[0m\u001b[0m\n",
      "\u001b[0;32m<ipython-input-5-2c2eed970baa>\u001b[0m in \u001b[0;36mget_features2\u001b[0;34m(data, wsize_sec, overlap)\u001b[0m\n\u001b[1;32m     13\u001b[0m \u001b[0;34m\u001b[0m\u001b[0m\n\u001b[1;32m     14\u001b[0m     \u001b[0;31m#feat = pd.rolling_apply(data[['x','y','z']], wsize, rms, wsize/2).add_suffix('_rms')\u001b[0m\u001b[0;34m\u001b[0m\u001b[0;34m\u001b[0m\u001b[0m\n\u001b[0;32m---> 15\u001b[0;31m     \u001b[0mfeat\u001b[0m \u001b[0;34m=\u001b[0m \u001b[0mdata\u001b[0m\u001b[0;34m[\u001b[0m\u001b[0;34m[\u001b[0m\u001b[0;34m'x'\u001b[0m\u001b[0;34m,\u001b[0m\u001b[0;34m'y'\u001b[0m\u001b[0;34m,\u001b[0m\u001b[0;34m'z'\u001b[0m\u001b[0;34m]\u001b[0m\u001b[0;34m]\u001b[0m\u001b[0;34m.\u001b[0m\u001b[0mswifter\u001b[0m\u001b[0;34m.\u001b[0m\u001b[0mrolling\u001b[0m\u001b[0;34m(\u001b[0m\u001b[0mwsize\u001b[0m\u001b[0;34m,\u001b[0m \u001b[0mwsize\u001b[0m\u001b[0;34m/\u001b[0m\u001b[0;36m2\u001b[0m\u001b[0;34m)\u001b[0m\u001b[0;34m.\u001b[0m\u001b[0mapply\u001b[0m\u001b[0;34m(\u001b[0m\u001b[0mrms\u001b[0m\u001b[0;34m)\u001b[0m\u001b[0;34m.\u001b[0m\u001b[0madd_suffix\u001b[0m\u001b[0;34m(\u001b[0m\u001b[0;34m'_rms'\u001b[0m\u001b[0;34m)\u001b[0m\u001b[0;34m\u001b[0m\u001b[0m\n\u001b[0m\u001b[1;32m     16\u001b[0m     \u001b[0mfeats\u001b[0m \u001b[0;34m=\u001b[0m \u001b[0mfeats\u001b[0m\u001b[0;34m.\u001b[0m\u001b[0mjoin\u001b[0m\u001b[0;34m(\u001b[0m\u001b[0mfeat\u001b[0m\u001b[0;34m)\u001b[0m\u001b[0;34m\u001b[0m\u001b[0m\n\u001b[1;32m     17\u001b[0m \u001b[0;34m\u001b[0m\u001b[0m\n",
      "\u001b[0;32m/home/paulo/.local/lib/python2.7/site-packages/swifter/swifter.pyc\u001b[0m in \u001b[0;36mrolling\u001b[0;34m(self, window, min_periods, center, win_type, on, axis, closed)\u001b[0m\n\u001b[1;32m     87\u001b[0m             \u001b[0;34m\"closed\"\u001b[0m\u001b[0;34m:\u001b[0m \u001b[0mclosed\u001b[0m\u001b[0;34m,\u001b[0m\u001b[0;34m\u001b[0m\u001b[0m\n\u001b[1;32m     88\u001b[0m         }\n\u001b[0;32m---> 89\u001b[0;31m         \u001b[0;32mreturn\u001b[0m \u001b[0mRolling\u001b[0m\u001b[0;34m(\u001b[0m\u001b[0mself\u001b[0m\u001b[0;34m.\u001b[0m\u001b[0m_obj\u001b[0m\u001b[0;34m,\u001b[0m \u001b[0mself\u001b[0m\u001b[0;34m.\u001b[0m\u001b[0m_npartitions\u001b[0m\u001b[0;34m,\u001b[0m \u001b[0mself\u001b[0m\u001b[0;34m.\u001b[0m\u001b[0m_dask_threshold\u001b[0m\u001b[0;34m,\u001b[0m \u001b[0mself\u001b[0m\u001b[0;34m.\u001b[0m\u001b[0m_progress_bar\u001b[0m\u001b[0;34m,\u001b[0m \u001b[0;34m**\u001b[0m\u001b[0mkwds\u001b[0m\u001b[0;34m)\u001b[0m\u001b[0;34m\u001b[0m\u001b[0m\n\u001b[0m\u001b[1;32m     90\u001b[0m \u001b[0;34m\u001b[0m\u001b[0m\n\u001b[1;32m     91\u001b[0m \u001b[0;34m\u001b[0m\u001b[0m\n",
      "\u001b[0;32m/home/paulo/.local/lib/python2.7/site-packages/swifter/swifter.pyc\u001b[0m in \u001b[0;36m__init__\u001b[0;34m(self, obj, npartitions, dask_threshold, progress_bar, **kwds)\u001b[0m\n\u001b[1;32m    355\u001b[0m \u001b[0;32mclass\u001b[0m \u001b[0mRolling\u001b[0m\u001b[0;34m(\u001b[0m\u001b[0mTransformation\u001b[0m\u001b[0;34m)\u001b[0m\u001b[0;34m:\u001b[0m\u001b[0;34m\u001b[0m\u001b[0m\n\u001b[1;32m    356\u001b[0m     \u001b[0;32mdef\u001b[0m \u001b[0m__init__\u001b[0m\u001b[0;34m(\u001b[0m\u001b[0mself\u001b[0m\u001b[0;34m,\u001b[0m \u001b[0mobj\u001b[0m\u001b[0;34m,\u001b[0m \u001b[0mnpartitions\u001b[0m\u001b[0;34m=\u001b[0m\u001b[0mNone\u001b[0m\u001b[0;34m,\u001b[0m \u001b[0mdask_threshold\u001b[0m\u001b[0;34m=\u001b[0m\u001b[0;36m1\u001b[0m\u001b[0;34m,\u001b[0m \u001b[0mprogress_bar\u001b[0m\u001b[0;34m=\u001b[0m\u001b[0mTrue\u001b[0m\u001b[0;34m,\u001b[0m \u001b[0;34m**\u001b[0m\u001b[0mkwds\u001b[0m\u001b[0;34m)\u001b[0m\u001b[0;34m:\u001b[0m\u001b[0;34m\u001b[0m\u001b[0m\n\u001b[0;32m--> 357\u001b[0;31m         \u001b[0msuper\u001b[0m\u001b[0;34m(\u001b[0m\u001b[0mRolling\u001b[0m\u001b[0;34m,\u001b[0m \u001b[0mself\u001b[0m\u001b[0;34m)\u001b[0m\u001b[0;34m.\u001b[0m\u001b[0m__init__\u001b[0m\u001b[0;34m(\u001b[0m\u001b[0mobj\u001b[0m\u001b[0;34m,\u001b[0m \u001b[0mnpartitions\u001b[0m\u001b[0;34m,\u001b[0m \u001b[0mdask_threshold\u001b[0m\u001b[0;34m,\u001b[0m \u001b[0mprogress_bar\u001b[0m\u001b[0;34m)\u001b[0m\u001b[0;34m\u001b[0m\u001b[0m\n\u001b[0m\u001b[1;32m    358\u001b[0m         \u001b[0mself\u001b[0m\u001b[0;34m.\u001b[0m\u001b[0m_samp_pd\u001b[0m \u001b[0;34m=\u001b[0m \u001b[0mself\u001b[0m\u001b[0;34m.\u001b[0m\u001b[0m_samp_pd\u001b[0m\u001b[0;34m.\u001b[0m\u001b[0mrolling\u001b[0m\u001b[0;34m(\u001b[0m\u001b[0;34m**\u001b[0m\u001b[0mkwds\u001b[0m\u001b[0;34m)\u001b[0m\u001b[0;34m\u001b[0m\u001b[0m\n\u001b[1;32m    359\u001b[0m         \u001b[0mself\u001b[0m\u001b[0;34m.\u001b[0m\u001b[0m_obj_pd\u001b[0m \u001b[0;34m=\u001b[0m \u001b[0mself\u001b[0m\u001b[0;34m.\u001b[0m\u001b[0m_obj_pd\u001b[0m\u001b[0;34m.\u001b[0m\u001b[0mrolling\u001b[0m\u001b[0;34m(\u001b[0m\u001b[0;34m**\u001b[0m\u001b[0mkwds\u001b[0m\u001b[0;34m)\u001b[0m\u001b[0;34m\u001b[0m\u001b[0m\n",
      "\u001b[0;31mTypeError\u001b[0m: super() argument 1 must be type, not classobj"
     ]
    }
   ],
   "source": [
    "data2 = read_data('all') \n",
    "feats, y = get_features2(data2, 2)\n",
    "X_train, X_test, y_train, y_test = train_test_split(feats, y, test_size=.25,\n",
    "                                                    random_state=0, stratify=y)\n",
    "best_model.fit(X_train, y_train)\n",
    "eval_model(best_model, X_test, y_test,'2sec - overlapping')\n"
   ]
  },
  {
   "cell_type": "code",
   "execution_count": null,
   "metadata": {},
   "outputs": [],
   "source": []
  }
 ],
 "metadata": {
  "kernelspec": {
   "display_name": "Python 2",
   "language": "python",
   "name": "python2"
  },
  "language_info": {
   "codemirror_mode": {
    "name": "ipython",
    "version": 2
   },
   "file_extension": ".py",
   "mimetype": "text/x-python",
   "name": "python",
   "nbconvert_exporter": "python",
   "pygments_lexer": "ipython2",
   "version": "2.7.14"
  }
 },
 "nbformat": 4,
 "nbformat_minor": 1
}
